{
  "nbformat": 4,
  "nbformat_minor": 0,
  "metadata": {
    "colab": {
      "name": "ArtClassification_Demo(2).ipynb",
      "provenance": []
    },
    "kernelspec": {
      "name": "python3",
      "display_name": "Python 3"
    }
  },
  "cells": [
    {
      "cell_type": "code",
      "metadata": {
        "id": "NHZnh2Y8u7pS",
        "colab": {
          "base_uri": "https://localhost:8080/",
          "height": 696
        },
        "outputId": "baa5b99e-d7bd-4e7f-c63f-a75b3acac066"
      },
      "source": [
        "pip install autokeras"
      ],
      "execution_count": null,
      "outputs": [
        {
          "output_type": "stream",
          "text": [
            "Collecting autokeras\n",
            "\u001b[?25l  Downloading https://files.pythonhosted.org/packages/a8/74/6588d79b8618c0f45ea2b3ace4959db2697029c8175bf1a0d2ed07c14761/autokeras-1.0.2-py3-none-any.whl (67kB)\n",
            "\r\u001b[K     |████▉                           | 10kB 17.4MB/s eta 0:00:01\r\u001b[K     |█████████▊                      | 20kB 1.7MB/s eta 0:00:01\r\u001b[K     |██████████████▋                 | 30kB 2.6MB/s eta 0:00:01\r\u001b[K     |███████████████████▍            | 40kB 1.7MB/s eta 0:00:01\r\u001b[K     |████████████████████████▎       | 51kB 2.1MB/s eta 0:00:01\r\u001b[K     |█████████████████████████████▏  | 61kB 2.5MB/s eta 0:00:01\r\u001b[K     |████████████████████████████████| 71kB 2.3MB/s \n",
            "\u001b[?25hRequirement already satisfied: numpy in /usr/local/lib/python3.6/dist-packages (from autokeras) (1.18.2)\n",
            "Requirement already satisfied: pandas in /usr/local/lib/python3.6/dist-packages (from autokeras) (1.0.3)\n",
            "Requirement already satisfied: packaging in /usr/local/lib/python3.6/dist-packages (from autokeras) (20.3)\n",
            "Collecting keras-tuner>=1.0.1\n",
            "\u001b[?25l  Downloading https://files.pythonhosted.org/packages/a7/f7/4b41b6832abf4c9bef71a664dc563adb25afc5812831667c6db572b1a261/keras-tuner-1.0.1.tar.gz (54kB)\n",
            "\u001b[K     |████████████████████████████████| 61kB 6.8MB/s \n",
            "\u001b[?25hRequirement already satisfied: scikit-learn in /usr/local/lib/python3.6/dist-packages (from autokeras) (0.22.2.post1)\n",
            "Requirement already satisfied: python-dateutil>=2.6.1 in /usr/local/lib/python3.6/dist-packages (from pandas->autokeras) (2.8.1)\n",
            "Requirement already satisfied: pytz>=2017.2 in /usr/local/lib/python3.6/dist-packages (from pandas->autokeras) (2018.9)\n",
            "Requirement already satisfied: six in /usr/local/lib/python3.6/dist-packages (from packaging->autokeras) (1.12.0)\n",
            "Requirement already satisfied: pyparsing>=2.0.2 in /usr/local/lib/python3.6/dist-packages (from packaging->autokeras) (2.4.6)\n",
            "Requirement already satisfied: future in /usr/local/lib/python3.6/dist-packages (from keras-tuner>=1.0.1->autokeras) (0.16.0)\n",
            "Requirement already satisfied: tabulate in /usr/local/lib/python3.6/dist-packages (from keras-tuner>=1.0.1->autokeras) (0.8.7)\n",
            "Collecting terminaltables\n",
            "  Downloading https://files.pythonhosted.org/packages/9b/c4/4a21174f32f8a7e1104798c445dacdc1d4df86f2f26722767034e4de4bff/terminaltables-3.1.0.tar.gz\n",
            "Collecting colorama\n",
            "  Downloading https://files.pythonhosted.org/packages/c9/dc/45cdef1b4d119eb96316b3117e6d5708a08029992b2fee2c143c7a0a5cc5/colorama-0.4.3-py2.py3-none-any.whl\n",
            "Requirement already satisfied: tqdm in /usr/local/lib/python3.6/dist-packages (from keras-tuner>=1.0.1->autokeras) (4.38.0)\n",
            "Requirement already satisfied: requests in /usr/local/lib/python3.6/dist-packages (from keras-tuner>=1.0.1->autokeras) (2.21.0)\n",
            "Requirement already satisfied: scipy in /usr/local/lib/python3.6/dist-packages (from keras-tuner>=1.0.1->autokeras) (1.4.1)\n",
            "Requirement already satisfied: joblib>=0.11 in /usr/local/lib/python3.6/dist-packages (from scikit-learn->autokeras) (0.14.1)\n",
            "Requirement already satisfied: urllib3<1.25,>=1.21.1 in /usr/local/lib/python3.6/dist-packages (from requests->keras-tuner>=1.0.1->autokeras) (1.24.3)\n",
            "Requirement already satisfied: certifi>=2017.4.17 in /usr/local/lib/python3.6/dist-packages (from requests->keras-tuner>=1.0.1->autokeras) (2019.11.28)\n",
            "Requirement already satisfied: chardet<3.1.0,>=3.0.2 in /usr/local/lib/python3.6/dist-packages (from requests->keras-tuner>=1.0.1->autokeras) (3.0.4)\n",
            "Requirement already satisfied: idna<2.9,>=2.5 in /usr/local/lib/python3.6/dist-packages (from requests->keras-tuner>=1.0.1->autokeras) (2.8)\n",
            "Building wheels for collected packages: keras-tuner, terminaltables\n",
            "  Building wheel for keras-tuner (setup.py) ... \u001b[?25l\u001b[?25hdone\n",
            "  Created wheel for keras-tuner: filename=keras_tuner-1.0.1-cp36-none-any.whl size=73200 sha256=4421d08de9b24858ca374c7e63dec588a0ee04224e3b8bf6d079e62a6b0be2d2\n",
            "  Stored in directory: /root/.cache/pip/wheels/b9/cc/62/52716b70dd90f3db12519233c3a93a5360bc672da1a10ded43\n",
            "  Building wheel for terminaltables (setup.py) ... \u001b[?25l\u001b[?25hdone\n",
            "  Created wheel for terminaltables: filename=terminaltables-3.1.0-cp36-none-any.whl size=15356 sha256=ecb34ef2a3b9da844d6c00fb35e3673dae1db0bbe46c7816b57680e5e2ddf565\n",
            "  Stored in directory: /root/.cache/pip/wheels/30/6b/50/6c75775b681fb36cdfac7f19799888ef9d8813aff9e379663e\n",
            "Successfully built keras-tuner terminaltables\n",
            "Installing collected packages: terminaltables, colorama, keras-tuner, autokeras\n",
            "Successfully installed autokeras-1.0.2 colorama-0.4.3 keras-tuner-1.0.1 terminaltables-3.1.0\n"
          ],
          "name": "stdout"
        }
      ]
    },
    {
      "cell_type": "code",
      "metadata": {
        "id": "__dXspvPvTHr",
        "colab": {
          "base_uri": "https://localhost:8080/",
          "height": 1000
        },
        "outputId": "9bb93030-192a-4866-e028-3f9c641b3c33"
      },
      "source": [
        "pip install tensorflow==2.1.0"
      ],
      "execution_count": null,
      "outputs": [
        {
          "output_type": "stream",
          "text": [
            "Collecting tensorflow==2.1.0\n",
            "\u001b[?25l  Downloading https://files.pythonhosted.org/packages/85/d4/c0cd1057b331bc38b65478302114194bd8e1b9c2bbc06e300935c0e93d90/tensorflow-2.1.0-cp36-cp36m-manylinux2010_x86_64.whl (421.8MB)\n",
            "\u001b[K     |████████████████████████████████| 421.8MB 39kB/s \n",
            "\u001b[?25hCollecting gast==0.2.2\n",
            "  Downloading https://files.pythonhosted.org/packages/4e/35/11749bf99b2d4e3cceb4d55ca22590b0d7c2c62b9de38ac4a4a7f4687421/gast-0.2.2.tar.gz\n",
            "Collecting tensorflow-estimator<2.2.0,>=2.1.0rc0\n",
            "\u001b[?25l  Downloading https://files.pythonhosted.org/packages/18/90/b77c328a1304437ab1310b463e533fa7689f4bfc41549593056d812fab8e/tensorflow_estimator-2.1.0-py2.py3-none-any.whl (448kB)\n",
            "\u001b[K     |████████████████████████████████| 450kB 46.2MB/s \n",
            "\u001b[?25hRequirement already satisfied: google-pasta>=0.1.6 in /usr/local/lib/python3.6/dist-packages (from tensorflow==2.1.0) (0.2.0)\n",
            "Requirement already satisfied: wrapt>=1.11.1 in /usr/local/lib/python3.6/dist-packages (from tensorflow==2.1.0) (1.12.1)\n",
            "Requirement already satisfied: keras-applications>=1.0.8 in /usr/local/lib/python3.6/dist-packages (from tensorflow==2.1.0) (1.0.8)\n",
            "Requirement already satisfied: grpcio>=1.8.6 in /usr/local/lib/python3.6/dist-packages (from tensorflow==2.1.0) (1.27.2)\n",
            "Requirement already satisfied: protobuf>=3.8.0 in /usr/local/lib/python3.6/dist-packages (from tensorflow==2.1.0) (3.10.0)\n",
            "Requirement already satisfied: absl-py>=0.7.0 in /usr/local/lib/python3.6/dist-packages (from tensorflow==2.1.0) (0.9.0)\n",
            "Requirement already satisfied: scipy==1.4.1; python_version >= \"3\" in /usr/local/lib/python3.6/dist-packages (from tensorflow==2.1.0) (1.4.1)\n",
            "Collecting tensorboard<2.2.0,>=2.1.0\n",
            "\u001b[?25l  Downloading https://files.pythonhosted.org/packages/d9/41/bbf49b61370e4f4d245d4c6051dfb6db80cec672605c91b1652ac8cc3d38/tensorboard-2.1.1-py3-none-any.whl (3.8MB)\n",
            "\u001b[K     |████████████████████████████████| 3.9MB 39.1MB/s \n",
            "\u001b[?25hRequirement already satisfied: astor>=0.6.0 in /usr/local/lib/python3.6/dist-packages (from tensorflow==2.1.0) (0.8.1)\n",
            "Requirement already satisfied: keras-preprocessing>=1.1.0 in /usr/local/lib/python3.6/dist-packages (from tensorflow==2.1.0) (1.1.0)\n",
            "Requirement already satisfied: termcolor>=1.1.0 in /usr/local/lib/python3.6/dist-packages (from tensorflow==2.1.0) (1.1.0)\n",
            "Requirement already satisfied: six>=1.12.0 in /usr/local/lib/python3.6/dist-packages (from tensorflow==2.1.0) (1.12.0)\n",
            "Requirement already satisfied: opt-einsum>=2.3.2 in /usr/local/lib/python3.6/dist-packages (from tensorflow==2.1.0) (3.2.0)\n",
            "Requirement already satisfied: numpy<2.0,>=1.16.0 in /usr/local/lib/python3.6/dist-packages (from tensorflow==2.1.0) (1.18.2)\n",
            "Requirement already satisfied: wheel>=0.26; python_version >= \"3\" in /usr/local/lib/python3.6/dist-packages (from tensorflow==2.1.0) (0.34.2)\n",
            "Requirement already satisfied: h5py in /usr/local/lib/python3.6/dist-packages (from keras-applications>=1.0.8->tensorflow==2.1.0) (2.10.0)\n",
            "Requirement already satisfied: setuptools in /usr/local/lib/python3.6/dist-packages (from protobuf>=3.8.0->tensorflow==2.1.0) (46.0.0)\n",
            "Requirement already satisfied: werkzeug>=0.11.15 in /usr/local/lib/python3.6/dist-packages (from tensorboard<2.2.0,>=2.1.0->tensorflow==2.1.0) (1.0.1)\n",
            "Requirement already satisfied: google-auth-oauthlib<0.5,>=0.4.1 in /usr/local/lib/python3.6/dist-packages (from tensorboard<2.2.0,>=2.1.0->tensorflow==2.1.0) (0.4.1)\n",
            "Requirement already satisfied: requests<3,>=2.21.0 in /usr/local/lib/python3.6/dist-packages (from tensorboard<2.2.0,>=2.1.0->tensorflow==2.1.0) (2.21.0)\n",
            "Requirement already satisfied: markdown>=2.6.8 in /usr/local/lib/python3.6/dist-packages (from tensorboard<2.2.0,>=2.1.0->tensorflow==2.1.0) (3.2.1)\n",
            "Requirement already satisfied: google-auth<2,>=1.6.3 in /usr/local/lib/python3.6/dist-packages (from tensorboard<2.2.0,>=2.1.0->tensorflow==2.1.0) (1.7.2)\n",
            "Requirement already satisfied: requests-oauthlib>=0.7.0 in /usr/local/lib/python3.6/dist-packages (from google-auth-oauthlib<0.5,>=0.4.1->tensorboard<2.2.0,>=2.1.0->tensorflow==2.1.0) (1.3.0)\n",
            "Requirement already satisfied: idna<2.9,>=2.5 in /usr/local/lib/python3.6/dist-packages (from requests<3,>=2.21.0->tensorboard<2.2.0,>=2.1.0->tensorflow==2.1.0) (2.8)\n",
            "Requirement already satisfied: chardet<3.1.0,>=3.0.2 in /usr/local/lib/python3.6/dist-packages (from requests<3,>=2.21.0->tensorboard<2.2.0,>=2.1.0->tensorflow==2.1.0) (3.0.4)\n",
            "Requirement already satisfied: urllib3<1.25,>=1.21.1 in /usr/local/lib/python3.6/dist-packages (from requests<3,>=2.21.0->tensorboard<2.2.0,>=2.1.0->tensorflow==2.1.0) (1.24.3)\n",
            "Requirement already satisfied: certifi>=2017.4.17 in /usr/local/lib/python3.6/dist-packages (from requests<3,>=2.21.0->tensorboard<2.2.0,>=2.1.0->tensorflow==2.1.0) (2019.11.28)\n",
            "Requirement already satisfied: pyasn1-modules>=0.2.1 in /usr/local/lib/python3.6/dist-packages (from google-auth<2,>=1.6.3->tensorboard<2.2.0,>=2.1.0->tensorflow==2.1.0) (0.2.8)\n",
            "Requirement already satisfied: cachetools<3.2,>=2.0.0 in /usr/local/lib/python3.6/dist-packages (from google-auth<2,>=1.6.3->tensorboard<2.2.0,>=2.1.0->tensorflow==2.1.0) (3.1.1)\n",
            "Requirement already satisfied: rsa<4.1,>=3.1.4 in /usr/local/lib/python3.6/dist-packages (from google-auth<2,>=1.6.3->tensorboard<2.2.0,>=2.1.0->tensorflow==2.1.0) (4.0)\n",
            "Requirement already satisfied: oauthlib>=3.0.0 in /usr/local/lib/python3.6/dist-packages (from requests-oauthlib>=0.7.0->google-auth-oauthlib<0.5,>=0.4.1->tensorboard<2.2.0,>=2.1.0->tensorflow==2.1.0) (3.1.0)\n",
            "Requirement already satisfied: pyasn1<0.5.0,>=0.4.6 in /usr/local/lib/python3.6/dist-packages (from pyasn1-modules>=0.2.1->google-auth<2,>=1.6.3->tensorboard<2.2.0,>=2.1.0->tensorflow==2.1.0) (0.4.8)\n",
            "Building wheels for collected packages: gast\n",
            "  Building wheel for gast (setup.py) ... \u001b[?25l\u001b[?25hdone\n",
            "  Created wheel for gast: filename=gast-0.2.2-cp36-none-any.whl size=7540 sha256=e7b21eaeffa801e6df65a83c511dcaf8874f3fcc12b52575a4b2ea91258a133f\n",
            "  Stored in directory: /root/.cache/pip/wheels/5c/2e/7e/a1d4d4fcebe6c381f378ce7743a3ced3699feb89bcfbdadadd\n",
            "Successfully built gast\n",
            "Installing collected packages: gast, tensorflow-estimator, tensorboard, tensorflow\n",
            "  Found existing installation: gast 0.3.3\n",
            "    Uninstalling gast-0.3.3:\n",
            "      Successfully uninstalled gast-0.3.3\n",
            "  Found existing installation: tensorflow-estimator 2.2.0rc0\n",
            "    Uninstalling tensorflow-estimator-2.2.0rc0:\n",
            "      Successfully uninstalled tensorflow-estimator-2.2.0rc0\n",
            "  Found existing installation: tensorboard 2.2.0\n",
            "    Uninstalling tensorboard-2.2.0:\n",
            "      Successfully uninstalled tensorboard-2.2.0\n",
            "  Found existing installation: tensorflow 2.2.0rc2\n",
            "    Uninstalling tensorflow-2.2.0rc2:\n",
            "      Successfully uninstalled tensorflow-2.2.0rc2\n",
            "Successfully installed gast-0.2.2 tensorboard-2.1.1 tensorflow-2.1.0 tensorflow-estimator-2.1.0\n"
          ],
          "name": "stdout"
        }
      ]
    },
    {
      "cell_type": "code",
      "metadata": {
        "id": "0SI1inx-vHQh",
        "colab": {
          "base_uri": "https://localhost:8080/",
          "height": 35
        },
        "outputId": "7783c271-7ede-4625-e654-17dedab1e037"
      },
      "source": [
        "from __future__ import absolute_import, division, print_function, unicode_literals\n",
        "\n",
        "try:\n",
        "  %tensorflow_version 2.x\n",
        "except Exception:\n",
        "  pass\n",
        "\n",
        "import tensorflow as tf\n",
        "\n",
        "from tensorflow.keras.models import Sequential\n",
        "from tensorflow.keras.layers import Dense, Conv2D, Flatten, Dropout, MaxPooling2D\n",
        "from tensorflow.keras.preprocessing.image import ImageDataGenerator\n",
        "\n",
        "from keras.preprocessing.image import array_to_img, img_to_array, load_img\n",
        "\n",
        "import os\n",
        "import numpy as np\n",
        "import matplotlib.pyplot as plt"
      ],
      "execution_count": null,
      "outputs": [
        {
          "output_type": "stream",
          "text": [
            "Using TensorFlow backend.\n"
          ],
          "name": "stderr"
        }
      ]
    },
    {
      "cell_type": "code",
      "metadata": {
        "id": "VQjpY765z_us"
      },
      "source": [
        "AUTOTUNE = tf.data.experimental.AUTOTUNE\n",
        "\n",
        "import IPython.display as display\n",
        "from PIL import Image"
      ],
      "execution_count": null,
      "outputs": []
    },
    {
      "cell_type": "code",
      "metadata": {
        "id": "uxVc-jmAqcG5",
        "colab": {
          "base_uri": "https://localhost:8080/",
          "height": 124
        },
        "outputId": "6648eda5-a067-456d-83fe-a1d05d6f512f"
      },
      "source": [
        "import zipfile\n",
        "\n",
        "from google.colab import drive\n",
        "drive.mount('/content/gdrive')"
      ],
      "execution_count": null,
      "outputs": [
        {
          "output_type": "stream",
          "text": [
            "Go to this URL in a browser: https://accounts.google.com/o/oauth2/auth?client_id=947318989803-6bn6qk8qdgf4n4g3pfee6491hc0brc4i.apps.googleusercontent.com&redirect_uri=urn%3aietf%3awg%3aoauth%3a2.0%3aoob&response_type=code&scope=email%20https%3a%2f%2fwww.googleapis.com%2fauth%2fdocs.test%20https%3a%2f%2fwww.googleapis.com%2fauth%2fdrive%20https%3a%2f%2fwww.googleapis.com%2fauth%2fdrive.photos.readonly%20https%3a%2f%2fwww.googleapis.com%2fauth%2fpeopleapi.readonly\n",
            "\n",
            "Enter your authorization code:\n",
            "··········\n",
            "Mounted at /content/gdrive\n"
          ],
          "name": "stdout"
        }
      ]
    },
    {
      "cell_type": "code",
      "metadata": {
        "id": "ecGFAoooe_rh",
        "colab": {
          "base_uri": "https://localhost:8080/",
          "height": 121
        },
        "outputId": "797c10d0-24a3-4a21-d0d3-1d738fedc61d"
      },
      "source": [
        "import pathlib\n",
        "\n",
        "root_directory = pathlib.Path('/content/gdrive/My Drive/art_semi')\n",
        "print(root_directory)\n",
        "\n",
        "train_data_dir = pathlib.Path(root_directory, 'train1')\n",
        "print(train_data_dir)\n",
        "\n",
        "test_data_dir = pathlib.Path(root_directory, 'test1')\n",
        "print(test_data_dir)\n",
        "\n",
        "train_image_count = len(list(train_data_dir.glob('*/*.jpg')))\n",
        "print(train_image_count)\n",
        "\n",
        "test_image_count = len(list(test_data_dir.glob('*/*.jpg')))\n",
        "print(test_image_count)\n",
        "\n",
        "CLASS_NAMES = np.array([item.name for item in test_data_dir.glob('*') if item.name != \"LICENSE.txt\"])\n",
        "print(CLASS_NAMES)"
      ],
      "execution_count": null,
      "outputs": [
        {
          "output_type": "stream",
          "text": [
            "/content/gdrive/My Drive/art_semi\n",
            "/content/gdrive/My Drive/art_semi/train1\n",
            "/content/gdrive/My Drive/art_semi/test1\n",
            "591\n",
            "132\n",
            "['abstracticism' 'baroque' 'popart' 'impressionism' 'minimalism']\n"
          ],
          "name": "stdout"
        }
      ]
    },
    {
      "cell_type": "code",
      "metadata": {
        "id": "H5qp5MdhzUrQ"
      },
      "source": [
        "train_abstracticisms = list(train_data_dir.glob('abstracticism/*'))\n",
        "\n",
        "\n",
        "#for image_path in train_abstracticisms[:5]:\n",
        " # display.display(Image.open(str(image_path)))\n"
      ],
      "execution_count": null,
      "outputs": []
    },
    {
      "cell_type": "code",
      "metadata": {
        "id": "bwcZ5A0iwCZB",
        "colab": {
          "base_uri": "https://localhost:8080/",
          "height": 191
        },
        "outputId": "8aa45922-654f-4fc1-a806-7f0f48deaa4e"
      },
      "source": [
        "train_abstractionism_dir = os.path.join(train_data_dir, 'abstracticism')\n",
        "print(train_abstractionism_dir)\n",
        "test_abstractionism_dir = os.path.join(test_data_dir, 'abstracticism')\n",
        "print(test_abstractionism_dir)\n",
        "\n",
        "train_baroque_dir = os.path.join(train_data_dir, 'baroque')\n",
        "print(train_baroque_dir)\n",
        "test_baroque_dir = os.path.join(test_data_dir, 'baroque')\n",
        "print(test_baroque_dir)\n",
        "\n",
        "train_impressionism_dir = os.path.join(train_data_dir, 'impressionism')\n",
        "print(train_impressionism_dir)\n",
        "test_impressionism_dir = os.path.join(test_data_dir, 'impressionism')\n",
        "print(test_impressionism_dir)\n",
        "\n",
        "train_minimalism_dir = os.path.join(train_data_dir, 'minimalism')\n",
        "print(train_minimalism_dir)\n",
        "test_minimalism_dir = os.path.join(test_data_dir, 'minimalism')\n",
        "print(test_minimalism_dir)\n",
        "\n",
        "train_popart_dir = pathlib.Path(train_data_dir, 'popart')\n",
        "print(train_popart_dir)\n",
        "test_popart_dir = pathlib.Path(test_data_dir, 'popart')\n",
        "print(test_popart_dir)"
      ],
      "execution_count": null,
      "outputs": [
        {
          "output_type": "stream",
          "text": [
            "/content/gdrive/My Drive/art_semi/train1/abstracticism\n",
            "/content/gdrive/My Drive/art_semi/test1/abstracticism\n",
            "/content/gdrive/My Drive/art_semi/train1/baroque\n",
            "/content/gdrive/My Drive/art_semi/test1/baroque\n",
            "/content/gdrive/My Drive/art_semi/train1/impressionism\n",
            "/content/gdrive/My Drive/art_semi/test1/impressionism\n",
            "/content/gdrive/My Drive/art_semi/train1/minimalism\n",
            "/content/gdrive/My Drive/art_semi/test1/minimalism\n",
            "/content/gdrive/My Drive/art_semi/train1/popart\n",
            "/content/gdrive/My Drive/art_semi/test1/popart\n"
          ],
          "name": "stdout"
        }
      ]
    },
    {
      "cell_type": "code",
      "metadata": {
        "id": "CZCP4JaRwLaZ",
        "colab": {
          "base_uri": "https://localhost:8080/",
          "height": 225
        },
        "outputId": "a464d048-bde9-4d37-c31c-03bcfd2f28fe"
      },
      "source": [
        "num_abstractionism_tr = len(os.listdir(train_abstractionism_dir))\n",
        "print('train abstractionism num:', num_abstractionism_tr)\n",
        "num_abstractionism_tt = len(os.listdir(test_abstractionism_dir))\n",
        "print('test abstractionism num: ', num_abstractionism_tt)\n",
        "\n",
        "num_baroque_tr = len(os.listdir(train_baroque_dir))\n",
        "print('train baroque num: ', num_baroque_tr)\n",
        "num_baroque_tt = len(os.listdir(test_baroque_dir))\n",
        "print('test baroque num: ', num_baroque_tt)\n",
        "\n",
        "num_impressionism_tr = len(os.listdir(train_impressionism_dir))\n",
        "print('train impressionism num: ', num_impressionism_tr)\n",
        "num_impressionism_tt = len(os.listdir(test_impressionism_dir))\n",
        "print('test impressionism num: ', num_impressionism_tt)\n",
        "\n",
        "num_minimalism_tr = len(os.listdir(train_minimalism_dir))\n",
        "print('train minimalism num: ', num_minimalism_tr)\n",
        "num_minimalism_tt = len(os.listdir(test_minimalism_dir))\n",
        "print('test minimalism num: ', num_minimalism_tt)\n",
        "\n",
        "num_popart_tr = len(os.listdir(train_popart_dir))\n",
        "print('train popart num: ', num_popart_tr)\n",
        "num_popart_tt = len(os.listdir(test_popart_dir))\n",
        "print('test popart num: ', num_popart_tt)\n",
        "\n",
        "total_train = num_abstractionism_tr + num_baroque_tr + num_impressionism_tr + num_minimalism_tr + num_popart_tr\n",
        "total_test = num_abstractionism_tt + num_baroque_tt + num_impressionism_tt + num_minimalism_tt + num_popart_tt\n",
        "print('total training datatset: ', total_train)\n",
        "print('total test dataset: ', total_test)"
      ],
      "execution_count": null,
      "outputs": [
        {
          "output_type": "stream",
          "text": [
            "train abstractionism num: 57\n",
            "test abstractionism num:  25\n",
            "train baroque num:  61\n",
            "test baroque num:  28\n",
            "train impressionism num:  71\n",
            "test impressionism num:  21\n",
            "train minimalism num:  61\n",
            "test minimalism num:  20\n",
            "train popart num:  83\n",
            "test popart num:  18\n",
            "total training datatset:  333\n",
            "total test dataset:  112\n"
          ],
          "name": "stdout"
        }
      ]
    },
    {
      "cell_type": "code",
      "metadata": {
        "id": "dUAKmy1VwYUn"
      },
      "source": [
        "train_image_generator = ImageDataGenerator(rescale=1./255) \n",
        "validation_image_generator = ImageDataGenerator(rescale=1./255)"
      ],
      "execution_count": null,
      "outputs": []
    },
    {
      "cell_type": "code",
      "metadata": {
        "id": "OtsSg73J1GIQ"
      },
      "source": [
        "BATCH_SIZE = 50\n",
        "epochs = 15\n",
        "IMG_HEIGHT = 200\n",
        "IMG_WIDTH = 200"
      ],
      "execution_count": null,
      "outputs": []
    },
    {
      "cell_type": "code",
      "metadata": {
        "id": "KRjSDWhC1gNX",
        "colab": {
          "base_uri": "https://localhost:8080/",
          "height": 52
        },
        "outputId": "20475589-61d1-43da-ec14-2df373b45c85"
      },
      "source": [
        "# train_data_gen = train_image_generator.flow_from_directory(directory=str(train_data_dir),\n",
        "#                                                      batch_size=BATCH_SIZE,\n",
        "#                                                      shuffle=True,\n",
        "#                                                      target_size=(IMG_HEIGHT, IMG_WIDTH),\n",
        "#                                                      classes = list(CLASS_NAMES))\n",
        "\n",
        "# val_data_gen = validation_image_generator.flow_from_directory(directory=str(test_data_dir),\n",
        "#                                                      batch_size=BATCH_SIZE,\n",
        "#                                                      shuffle=True,\n",
        "#                                                      target_size=(IMG_HEIGHT, IMG_WIDTH),\n",
        "#                                                      classes = list(CLASS_NAMES))\n",
        "\n",
        "train_data_gen = train_image_generator.flow_from_directory(batch_size=total_train,\n",
        "                                                           directory=train_data_dir,\n",
        "                                                           shuffle=True,\n",
        "                                                           target_size=(IMG_HEIGHT, IMG_WIDTH), \n",
        "                                                          class_mode='categorical')\n",
        "\n",
        "val_data_gen = validation_image_generator.flow_from_directory(batch_size=total_test,\n",
        "                                                              directory=test_data_dir,\n",
        "                                                              target_size=(IMG_HEIGHT, IMG_WIDTH),\n",
        "                                                              class_mode='categorical')"
      ],
      "execution_count": null,
      "outputs": [
        {
          "output_type": "stream",
          "text": [
            "Found 328 images belonging to 5 classes.\n",
            "Found 109 images belonging to 5 classes.\n"
          ],
          "name": "stdout"
        }
      ]
    },
    {
      "cell_type": "code",
      "metadata": {
        "id": "UIQc7x6yg1TI",
        "colab": {
          "base_uri": "https://localhost:8080/",
          "height": 156
        },
        "outputId": "d119cf7f-4e79-49fb-d756-96013d383da7"
      },
      "source": [
        "sample_training_images, sample_training_labels = next(train_data_gen)\n",
        "sample_test_images, sample_test_labels = next(val_data_gen)\n",
        "\n",
        "print(sample_test_images.shape)\n",
        "print(sample_test_labels.shape)\n",
        "print(sample_test_images.size)\n",
        "print(sample_test_labels.size)\n",
        "\n",
        "print(sample_training_images.shape)\n",
        "print(sample_training_labels.shape)\n",
        "print(sample_training_images.size)\n",
        "print(sample_training_labels.size)"
      ],
      "execution_count": null,
      "outputs": [
        {
          "output_type": "stream",
          "text": [
            "(109, 200, 200, 3)\n",
            "(109, 5)\n",
            "13080000\n",
            "545\n",
            "(328, 200, 200, 3)\n",
            "(328, 5)\n",
            "39360000\n",
            "1640\n"
          ],
          "name": "stdout"
        }
      ]
    },
    {
      "cell_type": "code",
      "metadata": {
        "id": "PYcbEqGRLirQ",
        "colab": {
          "base_uri": "https://localhost:8080/",
          "height": 1000
        },
        "outputId": "b1e885ae-592a-41b9-8b4c-ad9da23c364b"
      },
      "source": [
        "import autokeras as ak\n",
        "\n",
        "clf = ak.ImageClassifier(max_trials=10)\n",
        "clf.fit(sample_training_images, sample_training_labels, epochs = 3)\n",
        "#clf.fit(sample_training_images, sample_training_labels, validation_split=0.15, epochs = 3)"
      ],
      "execution_count": null,
      "outputs": [
        {
          "output_type": "stream",
          "text": [
            "WARNING:tensorflow:Unresolved object in checkpoint: (root).optimizer.iter\n"
          ],
          "name": "stdout"
        },
        {
          "output_type": "stream",
          "text": [
            "WARNING:tensorflow:Unresolved object in checkpoint: (root).optimizer.iter\n"
          ],
          "name": "stderr"
        },
        {
          "output_type": "stream",
          "text": [
            "WARNING:tensorflow:Unresolved object in checkpoint: (root).optimizer.beta_1\n"
          ],
          "name": "stdout"
        },
        {
          "output_type": "stream",
          "text": [
            "WARNING:tensorflow:Unresolved object in checkpoint: (root).optimizer.beta_1\n"
          ],
          "name": "stderr"
        },
        {
          "output_type": "stream",
          "text": [
            "WARNING:tensorflow:Unresolved object in checkpoint: (root).optimizer.beta_2\n"
          ],
          "name": "stdout"
        },
        {
          "output_type": "stream",
          "text": [
            "WARNING:tensorflow:Unresolved object in checkpoint: (root).optimizer.beta_2\n"
          ],
          "name": "stderr"
        },
        {
          "output_type": "stream",
          "text": [
            "WARNING:tensorflow:Unresolved object in checkpoint: (root).optimizer.decay\n"
          ],
          "name": "stdout"
        },
        {
          "output_type": "stream",
          "text": [
            "WARNING:tensorflow:Unresolved object in checkpoint: (root).optimizer.decay\n"
          ],
          "name": "stderr"
        },
        {
          "output_type": "stream",
          "text": [
            "WARNING:tensorflow:Unresolved object in checkpoint: (root).optimizer.learning_rate\n"
          ],
          "name": "stdout"
        },
        {
          "output_type": "stream",
          "text": [
            "WARNING:tensorflow:Unresolved object in checkpoint: (root).optimizer.learning_rate\n"
          ],
          "name": "stderr"
        },
        {
          "output_type": "stream",
          "text": [
            "WARNING:tensorflow:A checkpoint was restored (e.g. tf.train.Checkpoint.restore or tf.keras.Model.load_weights) but not all checkpointed values were used. See above for specific issues. Use expect_partial() on the load status object, e.g. tf.train.Checkpoint.restore(...).expect_partial(), to silence these warnings, or use assert_consumed() to make the check explicit. See https://www.tensorflow.org/guide/checkpoint#loading_mechanics for details.\n"
          ],
          "name": "stdout"
        },
        {
          "output_type": "stream",
          "text": [
            "WARNING:tensorflow:A checkpoint was restored (e.g. tf.train.Checkpoint.restore or tf.keras.Model.load_weights) but not all checkpointed values were used. See above for specific issues. Use expect_partial() on the load status object, e.g. tf.train.Checkpoint.restore(...).expect_partial(), to silence these warnings, or use assert_consumed() to make the check explicit. See https://www.tensorflow.org/guide/checkpoint#loading_mechanics for details.\n"
          ],
          "name": "stderr"
        },
        {
          "output_type": "stream",
          "text": [
            "WARNING:tensorflow:Unresolved object in checkpoint: (root).optimizer.iter\n"
          ],
          "name": "stdout"
        },
        {
          "output_type": "stream",
          "text": [
            "WARNING:tensorflow:Unresolved object in checkpoint: (root).optimizer.iter\n"
          ],
          "name": "stderr"
        },
        {
          "output_type": "stream",
          "text": [
            "WARNING:tensorflow:Unresolved object in checkpoint: (root).optimizer.beta_1\n"
          ],
          "name": "stdout"
        },
        {
          "output_type": "stream",
          "text": [
            "WARNING:tensorflow:Unresolved object in checkpoint: (root).optimizer.beta_1\n"
          ],
          "name": "stderr"
        },
        {
          "output_type": "stream",
          "text": [
            "WARNING:tensorflow:Unresolved object in checkpoint: (root).optimizer.beta_2\n"
          ],
          "name": "stdout"
        },
        {
          "output_type": "stream",
          "text": [
            "WARNING:tensorflow:Unresolved object in checkpoint: (root).optimizer.beta_2\n"
          ],
          "name": "stderr"
        },
        {
          "output_type": "stream",
          "text": [
            "WARNING:tensorflow:Unresolved object in checkpoint: (root).optimizer.decay\n"
          ],
          "name": "stdout"
        },
        {
          "output_type": "stream",
          "text": [
            "WARNING:tensorflow:Unresolved object in checkpoint: (root).optimizer.decay\n"
          ],
          "name": "stderr"
        },
        {
          "output_type": "stream",
          "text": [
            "WARNING:tensorflow:Unresolved object in checkpoint: (root).optimizer.learning_rate\n"
          ],
          "name": "stdout"
        },
        {
          "output_type": "stream",
          "text": [
            "WARNING:tensorflow:Unresolved object in checkpoint: (root).optimizer.learning_rate\n"
          ],
          "name": "stderr"
        },
        {
          "output_type": "stream",
          "text": [
            "WARNING:tensorflow:A checkpoint was restored (e.g. tf.train.Checkpoint.restore or tf.keras.Model.load_weights) but not all checkpointed values were used. See above for specific issues. Use expect_partial() on the load status object, e.g. tf.train.Checkpoint.restore(...).expect_partial(), to silence these warnings, or use assert_consumed() to make the check explicit. See https://www.tensorflow.org/guide/checkpoint#loading_mechanics for details.\n"
          ],
          "name": "stdout"
        },
        {
          "output_type": "stream",
          "text": [
            "WARNING:tensorflow:A checkpoint was restored (e.g. tf.train.Checkpoint.restore or tf.keras.Model.load_weights) but not all checkpointed values were used. See above for specific issues. Use expect_partial() on the load status object, e.g. tf.train.Checkpoint.restore(...).expect_partial(), to silence these warnings, or use assert_consumed() to make the check explicit. See https://www.tensorflow.org/guide/checkpoint#loading_mechanics for details.\n"
          ],
          "name": "stderr"
        },
        {
          "output_type": "stream",
          "text": [
            "Train for 9 steps, validate for 3 steps\n",
            "Epoch 1/3\n",
            "9/9 [==============================] - 42s 5s/step - loss: 10.4524 - accuracy: 0.3156 - val_loss: 2.9911 - val_accuracy: 0.3385\n",
            "Epoch 2/3\n",
            "9/9 [==============================] - 40s 4s/step - loss: 1.3302 - accuracy: 0.6046 - val_loss: 0.9610 - val_accuracy: 0.4769\n",
            "Epoch 3/3\n",
            "9/9 [==============================] - 40s 4s/step - loss: 0.7767 - accuracy: 0.7871 - val_loss: 1.2165 - val_accuracy: 0.4769\n"
          ],
          "name": "stdout"
        },
        {
          "output_type": "display_data",
          "data": {
            "text/html": [
              "<span style=\"color:#4527A0\"><h1 style=\"font-size:18px\">Trial complete</h1></span>"
            ],
            "text/plain": [
              "<IPython.core.display.HTML object>"
            ]
          },
          "metadata": {
            "tags": []
          }
        },
        {
          "output_type": "display_data",
          "data": {
            "text/html": [
              "<span style=\"color:#4527A0\"><h1 style=\"font-size:18px\">Trial summary</h1></span>"
            ],
            "text/plain": [
              "<IPython.core.display.HTML object>"
            ]
          },
          "metadata": {
            "tags": []
          }
        },
        {
          "output_type": "display_data",
          "data": {
            "text/html": [
              "<span style=\"color:cyan\"> |-Trial ID: 904aa37ca755ad0f07ff21371cffe5aa</span>"
            ],
            "text/plain": [
              "<IPython.core.display.HTML object>"
            ]
          },
          "metadata": {
            "tags": []
          }
        },
        {
          "output_type": "display_data",
          "data": {
            "text/html": [
              "<span style=\"color:cyan\"> |-Score: 0.960979143778483</span>"
            ],
            "text/plain": [
              "<IPython.core.display.HTML object>"
            ]
          },
          "metadata": {
            "tags": []
          }
        },
        {
          "output_type": "display_data",
          "data": {
            "text/html": [
              "<span style=\"color:cyan\"> |-Best step: 0</span>"
            ],
            "text/plain": [
              "<IPython.core.display.HTML object>"
            ]
          },
          "metadata": {
            "tags": []
          }
        },
        {
          "output_type": "display_data",
          "data": {
            "text/html": [
              "<span style=\"color:#7E57C2\"><h2 style=\"font-size:16px\">Hyperparameters:</h2></span>"
            ],
            "text/plain": [
              "<IPython.core.display.HTML object>"
            ]
          },
          "metadata": {
            "tags": []
          }
        },
        {
          "output_type": "display_data",
          "data": {
            "text/html": [
              "<span style=\"color:cyan\"> |-classification_head_1/dropout_rate: 0.5</span>"
            ],
            "text/plain": [
              "<IPython.core.display.HTML object>"
            ]
          },
          "metadata": {
            "tags": []
          }
        },
        {
          "output_type": "display_data",
          "data": {
            "text/html": [
              "<span style=\"color:blue\"> |-classification_head_1/spatial_reduction_1/reduction_type: flatten</span>"
            ],
            "text/plain": [
              "<IPython.core.display.HTML object>"
            ]
          },
          "metadata": {
            "tags": []
          }
        },
        {
          "output_type": "display_data",
          "data": {
            "text/html": [
              "<span style=\"color:cyan\"> |-dense_block_1/dropout_rate: 0</span>"
            ],
            "text/plain": [
              "<IPython.core.display.HTML object>"
            ]
          },
          "metadata": {
            "tags": []
          }
        },
        {
          "output_type": "display_data",
          "data": {
            "text/html": [
              "<span style=\"color:blue\"> |-dense_block_1/num_layers: 1</span>"
            ],
            "text/plain": [
              "<IPython.core.display.HTML object>"
            ]
          },
          "metadata": {
            "tags": []
          }
        },
        {
          "output_type": "display_data",
          "data": {
            "text/html": [
              "<span style=\"color:cyan\"> |-dense_block_1/units_0: 128</span>"
            ],
            "text/plain": [
              "<IPython.core.display.HTML object>"
            ]
          },
          "metadata": {
            "tags": []
          }
        },
        {
          "output_type": "display_data",
          "data": {
            "text/html": [
              "<span style=\"color:blue\"> |-dense_block_1/use_batchnorm: False</span>"
            ],
            "text/plain": [
              "<IPython.core.display.HTML object>"
            ]
          },
          "metadata": {
            "tags": []
          }
        },
        {
          "output_type": "display_data",
          "data": {
            "text/html": [
              "<span style=\"color:cyan\"> |-image_block_1/augment: False</span>"
            ],
            "text/plain": [
              "<IPython.core.display.HTML object>"
            ]
          },
          "metadata": {
            "tags": []
          }
        },
        {
          "output_type": "display_data",
          "data": {
            "text/html": [
              "<span style=\"color:blue\"> |-image_block_1/block_type: vanilla</span>"
            ],
            "text/plain": [
              "<IPython.core.display.HTML object>"
            ]
          },
          "metadata": {
            "tags": []
          }
        },
        {
          "output_type": "display_data",
          "data": {
            "text/html": [
              "<span style=\"color:cyan\"> |-image_block_1/conv_block_1/dropout_rate: 0.25</span>"
            ],
            "text/plain": [
              "<IPython.core.display.HTML object>"
            ]
          },
          "metadata": {
            "tags": []
          }
        },
        {
          "output_type": "display_data",
          "data": {
            "text/html": [
              "<span style=\"color:blue\"> |-image_block_1/conv_block_1/filters_0_0: 32</span>"
            ],
            "text/plain": [
              "<IPython.core.display.HTML object>"
            ]
          },
          "metadata": {
            "tags": []
          }
        },
        {
          "output_type": "display_data",
          "data": {
            "text/html": [
              "<span style=\"color:cyan\"> |-image_block_1/conv_block_1/filters_0_1: 64</span>"
            ],
            "text/plain": [
              "<IPython.core.display.HTML object>"
            ]
          },
          "metadata": {
            "tags": []
          }
        },
        {
          "output_type": "display_data",
          "data": {
            "text/html": [
              "<span style=\"color:blue\"> |-image_block_1/conv_block_1/kernel_size: 3</span>"
            ],
            "text/plain": [
              "<IPython.core.display.HTML object>"
            ]
          },
          "metadata": {
            "tags": []
          }
        },
        {
          "output_type": "display_data",
          "data": {
            "text/html": [
              "<span style=\"color:cyan\"> |-image_block_1/conv_block_1/max_pooling: True</span>"
            ],
            "text/plain": [
              "<IPython.core.display.HTML object>"
            ]
          },
          "metadata": {
            "tags": []
          }
        },
        {
          "output_type": "display_data",
          "data": {
            "text/html": [
              "<span style=\"color:blue\"> |-image_block_1/conv_block_1/num_blocks: 1</span>"
            ],
            "text/plain": [
              "<IPython.core.display.HTML object>"
            ]
          },
          "metadata": {
            "tags": []
          }
        },
        {
          "output_type": "display_data",
          "data": {
            "text/html": [
              "<span style=\"color:cyan\"> |-image_block_1/conv_block_1/num_layers: 2</span>"
            ],
            "text/plain": [
              "<IPython.core.display.HTML object>"
            ]
          },
          "metadata": {
            "tags": []
          }
        },
        {
          "output_type": "display_data",
          "data": {
            "text/html": [
              "<span style=\"color:blue\"> |-image_block_1/conv_block_1/separable: False</span>"
            ],
            "text/plain": [
              "<IPython.core.display.HTML object>"
            ]
          },
          "metadata": {
            "tags": []
          }
        },
        {
          "output_type": "display_data",
          "data": {
            "text/html": [
              "<span style=\"color:cyan\"> |-image_block_1/normalize: True</span>"
            ],
            "text/plain": [
              "<IPython.core.display.HTML object>"
            ]
          },
          "metadata": {
            "tags": []
          }
        },
        {
          "output_type": "display_data",
          "data": {
            "text/html": [
              "<span style=\"color:blue\"> |-optimizer: adam</span>"
            ],
            "text/plain": [
              "<IPython.core.display.HTML object>"
            ]
          },
          "metadata": {
            "tags": []
          }
        },
        {
          "output_type": "stream",
          "text": [
            "Train for 9 steps, validate for 3 steps\n",
            "Epoch 1/3\n",
            "9/9 [==============================] - 152s 17s/step - loss: 1.7806 - accuracy: 0.5437 - val_loss: 1050.1497 - val_accuracy: 0.1538\n",
            "Epoch 2/3\n",
            "9/9 [==============================] - 144s 16s/step - loss: 0.9641 - accuracy: 0.6350 - val_loss: 3219.5235 - val_accuracy: 0.1846\n",
            "Epoch 3/3\n",
            "9/9 [==============================] - 144s 16s/step - loss: 0.7394 - accuracy: 0.7224 - val_loss: 346.3630 - val_accuracy: 0.1846\n"
          ],
          "name": "stdout"
        },
        {
          "output_type": "display_data",
          "data": {
            "text/html": [
              "<span style=\"color:#4527A0\"><h1 style=\"font-size:18px\">Trial complete</h1></span>"
            ],
            "text/plain": [
              "<IPython.core.display.HTML object>"
            ]
          },
          "metadata": {
            "tags": []
          }
        },
        {
          "output_type": "display_data",
          "data": {
            "text/html": [
              "<span style=\"color:#4527A0\"><h1 style=\"font-size:18px\">Trial summary</h1></span>"
            ],
            "text/plain": [
              "<IPython.core.display.HTML object>"
            ]
          },
          "metadata": {
            "tags": []
          }
        },
        {
          "output_type": "display_data",
          "data": {
            "text/html": [
              "<span style=\"color:cyan\"> |-Trial ID: 4cd43d356fcaf61e22dc92c80719d55e</span>"
            ],
            "text/plain": [
              "<IPython.core.display.HTML object>"
            ]
          },
          "metadata": {
            "tags": []
          }
        },
        {
          "output_type": "display_data",
          "data": {
            "text/html": [
              "<span style=\"color:cyan\"> |-Score: 346.36302375793457</span>"
            ],
            "text/plain": [
              "<IPython.core.display.HTML object>"
            ]
          },
          "metadata": {
            "tags": []
          }
        },
        {
          "output_type": "display_data",
          "data": {
            "text/html": [
              "<span style=\"color:cyan\"> |-Best step: 0</span>"
            ],
            "text/plain": [
              "<IPython.core.display.HTML object>"
            ]
          },
          "metadata": {
            "tags": []
          }
        },
        {
          "output_type": "display_data",
          "data": {
            "text/html": [
              "<span style=\"color:#7E57C2\"><h2 style=\"font-size:16px\">Hyperparameters:</h2></span>"
            ],
            "text/plain": [
              "<IPython.core.display.HTML object>"
            ]
          },
          "metadata": {
            "tags": []
          }
        },
        {
          "output_type": "display_data",
          "data": {
            "text/html": [
              "<span style=\"color:cyan\"> |-classification_head_1/dropout_rate: 0</span>"
            ],
            "text/plain": [
              "<IPython.core.display.HTML object>"
            ]
          },
          "metadata": {
            "tags": []
          }
        },
        {
          "output_type": "display_data",
          "data": {
            "text/html": [
              "<span style=\"color:blue\"> |-dense_block_1/dropout_rate: 0</span>"
            ],
            "text/plain": [
              "<IPython.core.display.HTML object>"
            ]
          },
          "metadata": {
            "tags": []
          }
        },
        {
          "output_type": "display_data",
          "data": {
            "text/html": [
              "<span style=\"color:cyan\"> |-dense_block_1/num_layers: 2</span>"
            ],
            "text/plain": [
              "<IPython.core.display.HTML object>"
            ]
          },
          "metadata": {
            "tags": []
          }
        },
        {
          "output_type": "display_data",
          "data": {
            "text/html": [
              "<span style=\"color:blue\"> |-dense_block_1/units_0: 32</span>"
            ],
            "text/plain": [
              "<IPython.core.display.HTML object>"
            ]
          },
          "metadata": {
            "tags": []
          }
        },
        {
          "output_type": "display_data",
          "data": {
            "text/html": [
              "<span style=\"color:cyan\"> |-dense_block_1/units_1: 32</span>"
            ],
            "text/plain": [
              "<IPython.core.display.HTML object>"
            ]
          },
          "metadata": {
            "tags": []
          }
        },
        {
          "output_type": "display_data",
          "data": {
            "text/html": [
              "<span style=\"color:blue\"> |-dense_block_1/use_batchnorm: False</span>"
            ],
            "text/plain": [
              "<IPython.core.display.HTML object>"
            ]
          },
          "metadata": {
            "tags": []
          }
        },
        {
          "output_type": "display_data",
          "data": {
            "text/html": [
              "<span style=\"color:cyan\"> |-image_block_1/augment: True</span>"
            ],
            "text/plain": [
              "<IPython.core.display.HTML object>"
            ]
          },
          "metadata": {
            "tags": []
          }
        },
        {
          "output_type": "display_data",
          "data": {
            "text/html": [
              "<span style=\"color:blue\"> |-image_block_1/block_type: resnet</span>"
            ],
            "text/plain": [
              "<IPython.core.display.HTML object>"
            ]
          },
          "metadata": {
            "tags": []
          }
        },
        {
          "output_type": "display_data",
          "data": {
            "text/html": [
              "<span style=\"color:cyan\"> |-image_block_1/normalize: True</span>"
            ],
            "text/plain": [
              "<IPython.core.display.HTML object>"
            ]
          },
          "metadata": {
            "tags": []
          }
        },
        {
          "output_type": "display_data",
          "data": {
            "text/html": [
              "<span style=\"color:blue\"> |-image_block_1/res_net_block_1/conv3_depth: 4</span>"
            ],
            "text/plain": [
              "<IPython.core.display.HTML object>"
            ]
          },
          "metadata": {
            "tags": []
          }
        },
        {
          "output_type": "display_data",
          "data": {
            "text/html": [
              "<span style=\"color:cyan\"> |-image_block_1/res_net_block_1/conv4_depth: 6</span>"
            ],
            "text/plain": [
              "<IPython.core.display.HTML object>"
            ]
          },
          "metadata": {
            "tags": []
          }
        },
        {
          "output_type": "display_data",
          "data": {
            "text/html": [
              "<span style=\"color:blue\"> |-image_block_1/res_net_block_1/pooling: avg</span>"
            ],
            "text/plain": [
              "<IPython.core.display.HTML object>"
            ]
          },
          "metadata": {
            "tags": []
          }
        },
        {
          "output_type": "display_data",
          "data": {
            "text/html": [
              "<span style=\"color:cyan\"> |-image_block_1/res_net_block_1/version: v2</span>"
            ],
            "text/plain": [
              "<IPython.core.display.HTML object>"
            ]
          },
          "metadata": {
            "tags": []
          }
        },
        {
          "output_type": "display_data",
          "data": {
            "text/html": [
              "<span style=\"color:blue\"> |-optimizer: adam</span>"
            ],
            "text/plain": [
              "<IPython.core.display.HTML object>"
            ]
          },
          "metadata": {
            "tags": []
          }
        },
        {
          "output_type": "stream",
          "text": [
            "Train for 9 steps, validate for 3 steps\n",
            "Epoch 1/3\n",
            "9/9 [==============================] - 42s 5s/step - loss: 11.1059 - accuracy: 0.2662 - val_loss: 3.4930 - val_accuracy: 0.3231\n",
            "Epoch 2/3\n",
            "9/9 [==============================] - 41s 5s/step - loss: 1.3395 - accuracy: 0.5932 - val_loss: 1.0146 - val_accuracy: 0.5846\n",
            "Epoch 3/3\n",
            "9/9 [==============================] - 41s 5s/step - loss: 0.8479 - accuracy: 0.7414 - val_loss: 1.0148 - val_accuracy: 0.5077\n"
          ],
          "name": "stdout"
        },
        {
          "output_type": "display_data",
          "data": {
            "text/html": [
              "<span style=\"color:#4527A0\"><h1 style=\"font-size:18px\">Trial complete</h1></span>"
            ],
            "text/plain": [
              "<IPython.core.display.HTML object>"
            ]
          },
          "metadata": {
            "tags": []
          }
        },
        {
          "output_type": "display_data",
          "data": {
            "text/html": [
              "<span style=\"color:#4527A0\"><h1 style=\"font-size:18px\">Trial summary</h1></span>"
            ],
            "text/plain": [
              "<IPython.core.display.HTML object>"
            ]
          },
          "metadata": {
            "tags": []
          }
        },
        {
          "output_type": "display_data",
          "data": {
            "text/html": [
              "<span style=\"color:cyan\"> |-Trial ID: e7069f01d24ed4d29603f9b02c7ede67</span>"
            ],
            "text/plain": [
              "<IPython.core.display.HTML object>"
            ]
          },
          "metadata": {
            "tags": []
          }
        },
        {
          "output_type": "display_data",
          "data": {
            "text/html": [
              "<span style=\"color:cyan\"> |-Score: 1.0146027207374573</span>"
            ],
            "text/plain": [
              "<IPython.core.display.HTML object>"
            ]
          },
          "metadata": {
            "tags": []
          }
        },
        {
          "output_type": "display_data",
          "data": {
            "text/html": [
              "<span style=\"color:cyan\"> |-Best step: 0</span>"
            ],
            "text/plain": [
              "<IPython.core.display.HTML object>"
            ]
          },
          "metadata": {
            "tags": []
          }
        },
        {
          "output_type": "display_data",
          "data": {
            "text/html": [
              "<span style=\"color:#7E57C2\"><h2 style=\"font-size:16px\">Hyperparameters:</h2></span>"
            ],
            "text/plain": [
              "<IPython.core.display.HTML object>"
            ]
          },
          "metadata": {
            "tags": []
          }
        },
        {
          "output_type": "display_data",
          "data": {
            "text/html": [
              "<span style=\"color:cyan\"> |-classification_head_1/dropout_rate: 0.5</span>"
            ],
            "text/plain": [
              "<IPython.core.display.HTML object>"
            ]
          },
          "metadata": {
            "tags": []
          }
        },
        {
          "output_type": "display_data",
          "data": {
            "text/html": [
              "<span style=\"color:blue\"> |-classification_head_1/spatial_reduction_1/reduction_type: flatten</span>"
            ],
            "text/plain": [
              "<IPython.core.display.HTML object>"
            ]
          },
          "metadata": {
            "tags": []
          }
        },
        {
          "output_type": "display_data",
          "data": {
            "text/html": [
              "<span style=\"color:cyan\"> |-dense_block_1/dropout_rate: 0</span>"
            ],
            "text/plain": [
              "<IPython.core.display.HTML object>"
            ]
          },
          "metadata": {
            "tags": []
          }
        },
        {
          "output_type": "display_data",
          "data": {
            "text/html": [
              "<span style=\"color:blue\"> |-dense_block_1/num_layers: 1</span>"
            ],
            "text/plain": [
              "<IPython.core.display.HTML object>"
            ]
          },
          "metadata": {
            "tags": []
          }
        },
        {
          "output_type": "display_data",
          "data": {
            "text/html": [
              "<span style=\"color:cyan\"> |-dense_block_1/units_0: 128</span>"
            ],
            "text/plain": [
              "<IPython.core.display.HTML object>"
            ]
          },
          "metadata": {
            "tags": []
          }
        },
        {
          "output_type": "display_data",
          "data": {
            "text/html": [
              "<span style=\"color:blue\"> |-dense_block_1/use_batchnorm: False</span>"
            ],
            "text/plain": [
              "<IPython.core.display.HTML object>"
            ]
          },
          "metadata": {
            "tags": []
          }
        },
        {
          "output_type": "display_data",
          "data": {
            "text/html": [
              "<span style=\"color:cyan\"> |-image_block_1/augment: False</span>"
            ],
            "text/plain": [
              "<IPython.core.display.HTML object>"
            ]
          },
          "metadata": {
            "tags": []
          }
        },
        {
          "output_type": "display_data",
          "data": {
            "text/html": [
              "<span style=\"color:blue\"> |-image_block_1/block_type: vanilla</span>"
            ],
            "text/plain": [
              "<IPython.core.display.HTML object>"
            ]
          },
          "metadata": {
            "tags": []
          }
        },
        {
          "output_type": "display_data",
          "data": {
            "text/html": [
              "<span style=\"color:cyan\"> |-image_block_1/conv_block_1/dropout_rate: 0.25</span>"
            ],
            "text/plain": [
              "<IPython.core.display.HTML object>"
            ]
          },
          "metadata": {
            "tags": []
          }
        },
        {
          "output_type": "display_data",
          "data": {
            "text/html": [
              "<span style=\"color:blue\"> |-image_block_1/conv_block_1/filters_0_0: 32</span>"
            ],
            "text/plain": [
              "<IPython.core.display.HTML object>"
            ]
          },
          "metadata": {
            "tags": []
          }
        },
        {
          "output_type": "display_data",
          "data": {
            "text/html": [
              "<span style=\"color:cyan\"> |-image_block_1/conv_block_1/filters_0_1: 64</span>"
            ],
            "text/plain": [
              "<IPython.core.display.HTML object>"
            ]
          },
          "metadata": {
            "tags": []
          }
        },
        {
          "output_type": "display_data",
          "data": {
            "text/html": [
              "<span style=\"color:blue\"> |-image_block_1/conv_block_1/kernel_size: 3</span>"
            ],
            "text/plain": [
              "<IPython.core.display.HTML object>"
            ]
          },
          "metadata": {
            "tags": []
          }
        },
        {
          "output_type": "display_data",
          "data": {
            "text/html": [
              "<span style=\"color:cyan\"> |-image_block_1/conv_block_1/max_pooling: True</span>"
            ],
            "text/plain": [
              "<IPython.core.display.HTML object>"
            ]
          },
          "metadata": {
            "tags": []
          }
        },
        {
          "output_type": "display_data",
          "data": {
            "text/html": [
              "<span style=\"color:blue\"> |-image_block_1/conv_block_1/num_blocks: 1</span>"
            ],
            "text/plain": [
              "<IPython.core.display.HTML object>"
            ]
          },
          "metadata": {
            "tags": []
          }
        },
        {
          "output_type": "display_data",
          "data": {
            "text/html": [
              "<span style=\"color:cyan\"> |-image_block_1/conv_block_1/num_layers: 2</span>"
            ],
            "text/plain": [
              "<IPython.core.display.HTML object>"
            ]
          },
          "metadata": {
            "tags": []
          }
        },
        {
          "output_type": "display_data",
          "data": {
            "text/html": [
              "<span style=\"color:blue\"> |-image_block_1/conv_block_1/separable: False</span>"
            ],
            "text/plain": [
              "<IPython.core.display.HTML object>"
            ]
          },
          "metadata": {
            "tags": []
          }
        },
        {
          "output_type": "display_data",
          "data": {
            "text/html": [
              "<span style=\"color:cyan\"> |-image_block_1/normalize: True</span>"
            ],
            "text/plain": [
              "<IPython.core.display.HTML object>"
            ]
          },
          "metadata": {
            "tags": []
          }
        },
        {
          "output_type": "display_data",
          "data": {
            "text/html": [
              "<span style=\"color:blue\"> |-optimizer: adam</span>"
            ],
            "text/plain": [
              "<IPython.core.display.HTML object>"
            ]
          },
          "metadata": {
            "tags": []
          }
        },
        {
          "output_type": "stream",
          "text": [
            "INFO:tensorflow:Oracle triggered exit\n"
          ],
          "name": "stdout"
        },
        {
          "output_type": "stream",
          "text": [
            "INFO:tensorflow:Oracle triggered exit\n"
          ],
          "name": "stderr"
        },
        {
          "output_type": "stream",
          "text": [
            "Train for 12 steps, validate for 3 steps\n",
            "Epoch 1/3\n",
            "12/12 [==============================] - 52s 4s/step - loss: 11.3046 - accuracy: 0.2652 - val_loss: 2.2039 - val_accuracy: 0.2769\n",
            "Epoch 2/3\n",
            "12/12 [==============================] - 50s 4s/step - loss: 1.0745 - accuracy: 0.5854 - val_loss: 0.8453 - val_accuracy: 0.6615\n",
            "Epoch 3/3\n",
            "12/12 [==============================] - 50s 4s/step - loss: 0.9040 - accuracy: 0.6951 - val_loss: 0.6154 - val_accuracy: 0.7538\n"
          ],
          "name": "stdout"
        }
      ]
    },
    {
      "cell_type": "code",
      "metadata": {
        "id": "30_GzQsSOn6j",
        "colab": {
          "base_uri": "https://localhost:8080/",
          "height": 1000
        },
        "outputId": "e39bfea4-4642-43df-f50d-fecb47500606"
      },
      "source": [
        "predicted_y = clf.predict(sample_test_images)\n",
        "print(predicted_y)\n",
        "print(predicted_y.size)"
      ],
      "execution_count": null,
      "outputs": [
        {
          "output_type": "stream",
          "text": [
            "[[1.70045421e-02 6.96034811e-04 2.36470550e-02 8.09498966e-01\n",
            "  1.49153322e-01]\n",
            " [3.05833191e-01 6.21203966e-02 1.93549782e-01 6.01684526e-02\n",
            "  3.78328204e-01]\n",
            " [4.29896154e-02 6.03467405e-01 3.41100007e-01 1.25348661e-03\n",
            "  1.11894729e-02]\n",
            " [1.02639802e-01 6.67832613e-01 1.17393017e-01 1.00810761e-02\n",
            "  1.02053449e-01]\n",
            " [1.46656871e-01 4.82841209e-02 4.47678268e-01 7.83926994e-02\n",
            "  2.78988034e-01]\n",
            " [2.18645379e-01 6.94130808e-02 2.66654223e-01 2.30082095e-01\n",
            "  2.15205252e-01]\n",
            " [1.11111104e-02 1.12184358e-03 2.42230203e-03 1.35811074e-02\n",
            "  9.71763670e-01]\n",
            " [6.19238466e-02 6.74648762e-01 2.46170238e-01 2.07989523e-03\n",
            "  1.51774036e-02]\n",
            " [6.88222498e-02 6.44764543e-01 2.70692348e-01 3.55321052e-03\n",
            "  1.21676698e-02]\n",
            " [2.45880187e-02 5.98148227e-01 3.69686306e-01 4.89970669e-04\n",
            "  7.08758133e-03]\n",
            " [2.27541421e-02 6.22054562e-03 1.39863491e-02 8.98775365e-03\n",
            "  9.48051155e-01]\n",
            " [8.83993804e-02 1.86093394e-02 1.19714305e-01 2.84727901e-01\n",
            "  4.88549054e-01]\n",
            " [7.30526075e-02 6.22501001e-02 3.91888805e-02 1.92551091e-02\n",
            "  8.06253314e-01]\n",
            " [9.14567187e-02 3.29116322e-02 1.90805882e-01 2.42198884e-01\n",
            "  4.42626894e-01]\n",
            " [7.32998969e-03 1.44596313e-04 1.17284311e-02 8.69616151e-01\n",
            "  1.11180812e-01]\n",
            " [6.84287325e-02 3.33532840e-02 3.46262567e-02 2.62844637e-02\n",
            "  8.37307274e-01]\n",
            " [9.10635591e-02 6.09382056e-03 7.00120702e-02 6.16749346e-01\n",
            "  2.16081217e-01]\n",
            " [7.93823600e-02 5.90213120e-01 2.51725495e-01 1.38930269e-02\n",
            "  6.47860765e-02]\n",
            " [2.19009280e-01 3.90171558e-02 7.64604062e-02 2.71107871e-02\n",
            "  6.38402402e-01]\n",
            " [1.53823391e-01 4.67503332e-02 1.34059489e-01 4.44980741e-01\n",
            "  2.20386028e-01]\n",
            " [1.57566890e-02 7.84122765e-01 1.98275343e-01 1.64794779e-04\n",
            "  1.68042281e-03]\n",
            " [1.00019075e-01 4.44889754e-01 4.07694787e-01 1.13304965e-02\n",
            "  3.60658616e-02]\n",
            " [6.24881834e-02 6.71334803e-01 2.35576555e-01 5.60450647e-03\n",
            "  2.49960013e-02]\n",
            " [1.33846700e-01 2.22965688e-01 2.31426179e-01 5.34142591e-02\n",
            "  3.58347237e-01]\n",
            " [2.66892433e-01 2.40729809e-01 2.97971934e-01 2.78900154e-02\n",
            "  1.66515768e-01]\n",
            " [6.81518987e-02 5.26639581e-01 3.83128643e-01 3.84013797e-03\n",
            "  1.82397496e-02]\n",
            " [1.77160501e-01 9.11028758e-02 1.39150202e-01 2.68132947e-02\n",
            "  5.65773189e-01]\n",
            " [1.96018144e-01 1.92790568e-01 3.42949778e-01 1.05559126e-01\n",
            "  1.62682414e-01]\n",
            " [2.12852016e-01 1.66495010e-01 1.66963190e-01 5.26336432e-02\n",
            "  4.01056081e-01]\n",
            " [6.26362637e-02 6.61313772e-01 2.60092348e-01 3.11624631e-03\n",
            "  1.28412871e-02]\n",
            " [3.01355749e-01 7.69719332e-02 1.56576350e-01 8.85875002e-02\n",
            "  3.76508445e-01]\n",
            " [9.67659143e-05 7.36544607e-05 1.77755574e-05 1.13397773e-05\n",
            "  9.99800503e-01]\n",
            " [7.72550181e-02 5.93722006e-03 6.39366567e-01 1.17622815e-01\n",
            "  1.59818336e-01]\n",
            " [9.67659143e-05 7.36544607e-05 1.77755574e-05 1.13397773e-05\n",
            "  9.99800503e-01]\n",
            " [9.26938877e-02 4.53785539e-01 4.32322204e-01 3.50517174e-03\n",
            "  1.76932532e-02]\n",
            " [2.66176593e-02 7.33832538e-01 2.36366749e-01 3.30309500e-04\n",
            "  2.85264407e-03]\n",
            " [1.71801776e-01 1.05068758e-01 7.29584768e-02 8.00344944e-02\n",
            "  5.70136547e-01]\n",
            " [3.90313007e-02 5.76305568e-01 3.75247061e-01 9.23149055e-04\n",
            "  8.49286187e-03]\n",
            " [1.34737551e-01 4.61906999e-01 3.45107377e-01 1.32305128e-02\n",
            "  4.50176224e-02]\n",
            " [3.43189985e-02 6.60843074e-01 3.01727235e-01 5.97368460e-04\n",
            "  2.51334650e-03]\n",
            " [2.23518059e-01 2.65630841e-01 1.83131814e-01 7.53516033e-02\n",
            "  2.52367735e-01]\n",
            " [3.21751647e-02 6.89404666e-01 2.70572156e-01 1.30547013e-03\n",
            "  6.54255738e-03]\n",
            " [1.05065955e-02 2.71786092e-04 1.35518191e-02 8.50611567e-01\n",
            "  1.25058189e-01]\n",
            " [1.31407380e-02 2.15753098e-03 2.64555030e-03 2.52668746e-03\n",
            "  9.79529440e-01]\n",
            " [9.95598584e-02 3.64993848e-02 7.56565988e-01 4.63100895e-02\n",
            "  6.10646345e-02]\n",
            " [8.58009383e-02 3.03728521e-01 4.86902356e-01 1.58048645e-02\n",
            "  1.07763290e-01]\n",
            " [2.64734834e-01 1.67170897e-01 1.40594751e-01 7.93709457e-02\n",
            "  3.48128527e-01]\n",
            " [1.05934869e-02 2.92276789e-04 1.52668888e-02 8.47965658e-01\n",
            "  1.25881761e-01]\n",
            " [1.81244701e-01 4.69467640e-02 3.02358210e-01 1.54573172e-01\n",
            "  3.14877123e-01]\n",
            " [1.56816036e-01 8.37215558e-02 1.11876443e-01 4.22389418e-01\n",
            "  2.25196540e-01]\n",
            " [3.79962265e-01 7.97964334e-02 1.45619228e-01 1.00816004e-01\n",
            "  2.93806046e-01]\n",
            " [2.25916535e-01 2.65806705e-01 2.34589577e-01 4.00268510e-02\n",
            "  2.33660385e-01]\n",
            " [1.83292404e-01 1.21894680e-01 1.37429193e-01 3.41494292e-01\n",
            "  2.15889335e-01]\n",
            " [7.71537563e-03 1.64989120e-04 1.01798382e-02 7.78485894e-01\n",
            "  2.03453973e-01]\n",
            " [6.05207533e-02 1.16195967e-02 3.46099138e-02 9.09691956e-03\n",
            "  8.84152770e-01]\n",
            " [1.83280379e-01 3.27922940e-01 3.44689429e-01 5.93688004e-02\n",
            "  8.47384706e-02]\n",
            " [3.45455796e-01 1.89932480e-01 2.25776747e-01 4.95634712e-02\n",
            "  1.89271465e-01]\n",
            " [2.67840445e-01 8.10854658e-02 1.11169934e-01 2.91979581e-01\n",
            "  2.47924641e-01]\n",
            " [9.99102965e-02 5.75243533e-01 2.40689993e-01 2.67504603e-02\n",
            "  5.74056469e-02]\n",
            " [1.82731956e-01 3.47903669e-01 1.42861739e-01 1.02110028e-01\n",
            "  2.24392638e-01]\n",
            " [7.04301707e-03 1.28366999e-04 1.01202922e-02 8.78364086e-01\n",
            "  1.04344212e-01]\n",
            " [1.89242046e-02 8.70500458e-04 2.20643021e-02 8.02098393e-01\n",
            "  1.56042650e-01]\n",
            " [9.92041528e-01 3.41269788e-06 4.34863055e-03 5.15253589e-07\n",
            "  3.60584445e-03]\n",
            " [6.20904192e-02 9.71022062e-03 2.41431538e-02 7.33687282e-02\n",
            "  8.30687523e-01]\n",
            " [7.44835660e-02 6.26773238e-01 2.51623154e-01 9.06767044e-03\n",
            "  3.80523726e-02]\n",
            " [6.07714094e-02 6.52325526e-03 8.44043791e-02 4.99852568e-01\n",
            "  3.48448426e-01]\n",
            " [9.25999954e-02 3.57743025e-01 5.38631678e-01 1.57927733e-03\n",
            "  9.44596250e-03]\n",
            " [1.80057794e-01 2.01110452e-01 1.89487845e-01 4.98940609e-02\n",
            "  3.79449904e-01]\n",
            " [1.04857624e-01 2.51941923e-02 4.97501157e-02 2.00484157e-01\n",
            "  6.19713902e-01]\n",
            " [5.78591377e-02 7.10540771e-01 2.04179838e-01 3.12545663e-03\n",
            "  2.42948066e-02]\n",
            " [1.53365344e-01 7.92292655e-02 4.77991432e-01 1.17672473e-01\n",
            "  1.71741471e-01]\n",
            " [1.37011126e-01 4.70422655e-01 1.89081460e-01 5.51702045e-02\n",
            "  1.48314491e-01]\n",
            " [1.38683811e-01 2.99679697e-01 4.57164079e-01 2.29284838e-02\n",
            "  8.15439746e-02]\n",
            " [1.31407380e-02 2.15753098e-03 2.64555030e-03 2.52668746e-03\n",
            "  9.79529440e-01]\n",
            " [2.14816362e-01 3.54420483e-01 1.98264912e-01 4.47345488e-02\n",
            "  1.87763751e-01]\n",
            " [1.63458005e-01 3.19915712e-01 2.98610210e-01 5.58606796e-02\n",
            "  1.62155360e-01]\n",
            " [7.17801377e-02 5.74330091e-01 3.27870071e-01 3.12250690e-03\n",
            "  2.28971336e-02]\n",
            " [1.54944016e-02 5.76484541e-04 2.15059891e-02 8.24607790e-01\n",
            "  1.37815267e-01]\n",
            " [2.24929646e-01 5.30685633e-02 8.19829032e-02 3.35408449e-02\n",
            "  6.06478035e-01]\n",
            " [2.19410837e-01 2.24472210e-01 5.07130504e-01 8.81806202e-03\n",
            "  4.01683860e-02]\n",
            " [1.58062249e-01 5.03765382e-02 3.06663275e-01 1.75384849e-01\n",
            "  3.09513181e-01]\n",
            " [7.30476975e-02 5.44202983e-01 3.17237496e-01 1.45524573e-02\n",
            "  5.09593897e-02]\n",
            " [2.06366375e-01 2.74093181e-01 3.23574990e-01 5.13066910e-02\n",
            "  1.44658804e-01]\n",
            " [2.18656436e-01 6.15533292e-02 1.43957913e-01 1.04374215e-01\n",
            "  4.71458107e-01]\n",
            " [1.09508246e-01 4.87781584e-01 3.60134602e-01 1.74304787e-02\n",
            "  2.51450986e-02]\n",
            " [1.03786193e-01 1.99648719e-02 4.16892730e-02 5.74235916e-02\n",
            "  7.77136087e-01]\n",
            " [2.87850320e-01 2.10003197e-01 1.68017909e-01 3.07882819e-02\n",
            "  3.03340167e-01]\n",
            " [5.07709719e-02 7.93876410e-01 1.40155464e-01 2.79113813e-03\n",
            "  1.24059571e-02]\n",
            " [2.57734478e-01 2.18021005e-01 3.62322509e-01 2.75230389e-02\n",
            "  1.34399042e-01]\n",
            " [1.35066174e-02 1.44086499e-03 7.69346766e-03 1.47290885e-01\n",
            "  8.30068111e-01]\n",
            " [2.25967057e-02 9.84962797e-04 2.74261329e-02 8.25136304e-01\n",
            "  1.23855881e-01]\n",
            " [4.42363024e-02 4.40998236e-03 7.08614215e-02 6.46500528e-01\n",
            "  2.33991832e-01]\n",
            " [3.30170989e-01 1.68920264e-01 1.86798096e-01 2.89512258e-02\n",
            "  2.85159320e-01]\n",
            " [5.11827692e-02 6.65991902e-01 2.78322130e-01 1.49606075e-03\n",
            "  3.00713279e-03]\n",
            " [1.77160501e-01 9.11028758e-02 1.39150202e-01 2.68132947e-02\n",
            "  5.65773189e-01]\n",
            " [4.63732965e-02 7.31084406e-01 2.12614670e-01 1.53831800e-03\n",
            "  8.38932022e-03]\n",
            " [4.35502499e-01 5.10745011e-02 1.69226363e-01 3.70363370e-02\n",
            "  3.07160378e-01]\n",
            " [1.83892995e-01 1.47216707e-01 1.45290315e-01 3.17042142e-01\n",
            "  2.06557870e-01]\n",
            " [5.10937348e-02 6.95089877e-01 2.49463782e-01 8.93802149e-04\n",
            "  3.45875300e-03]\n",
            " [9.47097782e-03 2.61667359e-04 1.43041667e-02 8.48775923e-01\n",
            "  1.27187237e-01]\n",
            " [4.90925498e-02 5.53766787e-01 3.78430128e-01 2.23943521e-03\n",
            "  1.64710786e-02]\n",
            " [3.45455796e-01 1.89932480e-01 2.25776747e-01 4.95634712e-02\n",
            "  1.89271465e-01]\n",
            " [4.32392322e-02 7.41004527e-01 1.90873921e-01 2.84481538e-03\n",
            "  2.20374949e-02]\n",
            " [2.74599157e-03 9.04011168e-03 8.96611251e-03 1.36506674e-03\n",
            "  9.77882683e-01]\n",
            " [3.04548349e-02 1.12825586e-03 3.60841379e-02 6.04252100e-01\n",
            "  3.28080654e-01]\n",
            " [5.24865463e-03 6.52889576e-05 6.72404980e-03 8.40916395e-01\n",
            "  1.47045508e-01]\n",
            " [1.26157952e-02 4.16934083e-04 1.63783636e-02 7.81881273e-01\n",
            "  1.88707620e-01]\n",
            " [1.42958183e-02 7.92870045e-01 1.91935733e-01 1.74106404e-04\n",
            "  7.24245037e-04]\n",
            " [7.01898038e-02 7.42706537e-01 1.57397106e-01 1.78859418e-03\n",
            "  2.79179383e-02]]\n",
            "545\n"
          ],
          "name": "stdout"
        }
      ]
    },
    {
      "cell_type": "code",
      "metadata": {
        "id": "WxOv1QruPZQp",
        "colab": {
          "base_uri": "https://localhost:8080/",
          "height": 939
        },
        "outputId": "102382ba-89e0-4e35-b072-72c7951ee36d"
      },
      "source": [
        "print(clf.evaluate(sample_test_images, sample_test_labels))\n",
        "\n",
        "print(clf.evaluate(sample_training_images, sample_training_labels))"
      ],
      "execution_count": null,
      "outputs": [
        {
          "output_type": "stream",
          "text": [
            "WARNING:tensorflow:Unresolved object in checkpoint: (root).optimizer.iter\n"
          ],
          "name": "stdout"
        },
        {
          "output_type": "stream",
          "text": [
            "WARNING:tensorflow:Unresolved object in checkpoint: (root).optimizer.iter\n"
          ],
          "name": "stderr"
        },
        {
          "output_type": "stream",
          "text": [
            "WARNING:tensorflow:Unresolved object in checkpoint: (root).optimizer.beta_1\n"
          ],
          "name": "stdout"
        },
        {
          "output_type": "stream",
          "text": [
            "WARNING:tensorflow:Unresolved object in checkpoint: (root).optimizer.beta_1\n"
          ],
          "name": "stderr"
        },
        {
          "output_type": "stream",
          "text": [
            "WARNING:tensorflow:Unresolved object in checkpoint: (root).optimizer.beta_2\n"
          ],
          "name": "stdout"
        },
        {
          "output_type": "stream",
          "text": [
            "WARNING:tensorflow:Unresolved object in checkpoint: (root).optimizer.beta_2\n"
          ],
          "name": "stderr"
        },
        {
          "output_type": "stream",
          "text": [
            "WARNING:tensorflow:Unresolved object in checkpoint: (root).optimizer.decay\n"
          ],
          "name": "stdout"
        },
        {
          "output_type": "stream",
          "text": [
            "WARNING:tensorflow:Unresolved object in checkpoint: (root).optimizer.decay\n"
          ],
          "name": "stderr"
        },
        {
          "output_type": "stream",
          "text": [
            "WARNING:tensorflow:Unresolved object in checkpoint: (root).optimizer.learning_rate\n"
          ],
          "name": "stdout"
        },
        {
          "output_type": "stream",
          "text": [
            "WARNING:tensorflow:Unresolved object in checkpoint: (root).optimizer.learning_rate\n"
          ],
          "name": "stderr"
        },
        {
          "output_type": "stream",
          "text": [
            "WARNING:tensorflow:A checkpoint was restored (e.g. tf.train.Checkpoint.restore or tf.keras.Model.load_weights) but not all checkpointed values were used. See above for specific issues. Use expect_partial() on the load status object, e.g. tf.train.Checkpoint.restore(...).expect_partial(), to silence these warnings, or use assert_consumed() to make the check explicit. See https://www.tensorflow.org/guide/checkpoint#loading_mechanics for details.\n"
          ],
          "name": "stdout"
        },
        {
          "output_type": "stream",
          "text": [
            "WARNING:tensorflow:A checkpoint was restored (e.g. tf.train.Checkpoint.restore or tf.keras.Model.load_weights) but not all checkpointed values were used. See above for specific issues. Use expect_partial() on the load status object, e.g. tf.train.Checkpoint.restore(...).expect_partial(), to silence these warnings, or use assert_consumed() to make the check explicit. See https://www.tensorflow.org/guide/checkpoint#loading_mechanics for details.\n"
          ],
          "name": "stderr"
        },
        {
          "output_type": "stream",
          "text": [
            "WARNING:tensorflow:Unresolved object in checkpoint: (root).optimizer.iter\n"
          ],
          "name": "stdout"
        },
        {
          "output_type": "stream",
          "text": [
            "WARNING:tensorflow:Unresolved object in checkpoint: (root).optimizer.iter\n"
          ],
          "name": "stderr"
        },
        {
          "output_type": "stream",
          "text": [
            "WARNING:tensorflow:Unresolved object in checkpoint: (root).optimizer.beta_1\n"
          ],
          "name": "stdout"
        },
        {
          "output_type": "stream",
          "text": [
            "WARNING:tensorflow:Unresolved object in checkpoint: (root).optimizer.beta_1\n"
          ],
          "name": "stderr"
        },
        {
          "output_type": "stream",
          "text": [
            "WARNING:tensorflow:Unresolved object in checkpoint: (root).optimizer.beta_2\n"
          ],
          "name": "stdout"
        },
        {
          "output_type": "stream",
          "text": [
            "WARNING:tensorflow:Unresolved object in checkpoint: (root).optimizer.beta_2\n"
          ],
          "name": "stderr"
        },
        {
          "output_type": "stream",
          "text": [
            "WARNING:tensorflow:Unresolved object in checkpoint: (root).optimizer.decay\n"
          ],
          "name": "stdout"
        },
        {
          "output_type": "stream",
          "text": [
            "WARNING:tensorflow:Unresolved object in checkpoint: (root).optimizer.decay\n"
          ],
          "name": "stderr"
        },
        {
          "output_type": "stream",
          "text": [
            "WARNING:tensorflow:Unresolved object in checkpoint: (root).optimizer.learning_rate\n"
          ],
          "name": "stdout"
        },
        {
          "output_type": "stream",
          "text": [
            "WARNING:tensorflow:Unresolved object in checkpoint: (root).optimizer.learning_rate\n"
          ],
          "name": "stderr"
        },
        {
          "output_type": "stream",
          "text": [
            "WARNING:tensorflow:A checkpoint was restored (e.g. tf.train.Checkpoint.restore or tf.keras.Model.load_weights) but not all checkpointed values were used. See above for specific issues. Use expect_partial() on the load status object, e.g. tf.train.Checkpoint.restore(...).expect_partial(), to silence these warnings, or use assert_consumed() to make the check explicit. See https://www.tensorflow.org/guide/checkpoint#loading_mechanics for details.\n"
          ],
          "name": "stdout"
        },
        {
          "output_type": "stream",
          "text": [
            "WARNING:tensorflow:A checkpoint was restored (e.g. tf.train.Checkpoint.restore or tf.keras.Model.load_weights) but not all checkpointed values were used. See above for specific issues. Use expect_partial() on the load status object, e.g. tf.train.Checkpoint.restore(...).expect_partial(), to silence these warnings, or use assert_consumed() to make the check explicit. See https://www.tensorflow.org/guide/checkpoint#loading_mechanics for details.\n"
          ],
          "name": "stderr"
        },
        {
          "output_type": "stream",
          "text": [
            "4/4 [==============================] - 4s 1s/step - loss: 0.9633 - accuracy: 0.6514\n",
            "[0.9633165299892426, 0.6513761]\n",
            "WARNING:tensorflow:Unresolved object in checkpoint: (root).optimizer.iter\n"
          ],
          "name": "stdout"
        },
        {
          "output_type": "stream",
          "text": [
            "WARNING:tensorflow:Unresolved object in checkpoint: (root).optimizer.iter\n"
          ],
          "name": "stderr"
        },
        {
          "output_type": "stream",
          "text": [
            "WARNING:tensorflow:Unresolved object in checkpoint: (root).optimizer.beta_1\n"
          ],
          "name": "stdout"
        },
        {
          "output_type": "stream",
          "text": [
            "WARNING:tensorflow:Unresolved object in checkpoint: (root).optimizer.beta_1\n"
          ],
          "name": "stderr"
        },
        {
          "output_type": "stream",
          "text": [
            "WARNING:tensorflow:Unresolved object in checkpoint: (root).optimizer.beta_2\n"
          ],
          "name": "stdout"
        },
        {
          "output_type": "stream",
          "text": [
            "WARNING:tensorflow:Unresolved object in checkpoint: (root).optimizer.beta_2\n"
          ],
          "name": "stderr"
        },
        {
          "output_type": "stream",
          "text": [
            "WARNING:tensorflow:Unresolved object in checkpoint: (root).optimizer.decay\n"
          ],
          "name": "stdout"
        },
        {
          "output_type": "stream",
          "text": [
            "WARNING:tensorflow:Unresolved object in checkpoint: (root).optimizer.decay\n"
          ],
          "name": "stderr"
        },
        {
          "output_type": "stream",
          "text": [
            "WARNING:tensorflow:Unresolved object in checkpoint: (root).optimizer.learning_rate\n"
          ],
          "name": "stdout"
        },
        {
          "output_type": "stream",
          "text": [
            "WARNING:tensorflow:Unresolved object in checkpoint: (root).optimizer.learning_rate\n"
          ],
          "name": "stderr"
        },
        {
          "output_type": "stream",
          "text": [
            "WARNING:tensorflow:A checkpoint was restored (e.g. tf.train.Checkpoint.restore or tf.keras.Model.load_weights) but not all checkpointed values were used. See above for specific issues. Use expect_partial() on the load status object, e.g. tf.train.Checkpoint.restore(...).expect_partial(), to silence these warnings, or use assert_consumed() to make the check explicit. See https://www.tensorflow.org/guide/checkpoint#loading_mechanics for details.\n"
          ],
          "name": "stdout"
        },
        {
          "output_type": "stream",
          "text": [
            "WARNING:tensorflow:A checkpoint was restored (e.g. tf.train.Checkpoint.restore or tf.keras.Model.load_weights) but not all checkpointed values were used. See above for specific issues. Use expect_partial() on the load status object, e.g. tf.train.Checkpoint.restore(...).expect_partial(), to silence these warnings, or use assert_consumed() to make the check explicit. See https://www.tensorflow.org/guide/checkpoint#loading_mechanics for details.\n"
          ],
          "name": "stderr"
        },
        {
          "output_type": "stream",
          "text": [
            "WARNING:tensorflow:Unresolved object in checkpoint: (root).optimizer.iter\n"
          ],
          "name": "stdout"
        },
        {
          "output_type": "stream",
          "text": [
            "WARNING:tensorflow:Unresolved object in checkpoint: (root).optimizer.iter\n"
          ],
          "name": "stderr"
        },
        {
          "output_type": "stream",
          "text": [
            "WARNING:tensorflow:Unresolved object in checkpoint: (root).optimizer.beta_1\n"
          ],
          "name": "stdout"
        },
        {
          "output_type": "stream",
          "text": [
            "WARNING:tensorflow:Unresolved object in checkpoint: (root).optimizer.beta_1\n"
          ],
          "name": "stderr"
        },
        {
          "output_type": "stream",
          "text": [
            "WARNING:tensorflow:Unresolved object in checkpoint: (root).optimizer.beta_2\n"
          ],
          "name": "stdout"
        },
        {
          "output_type": "stream",
          "text": [
            "WARNING:tensorflow:Unresolved object in checkpoint: (root).optimizer.beta_2\n"
          ],
          "name": "stderr"
        },
        {
          "output_type": "stream",
          "text": [
            "WARNING:tensorflow:Unresolved object in checkpoint: (root).optimizer.decay\n"
          ],
          "name": "stdout"
        },
        {
          "output_type": "stream",
          "text": [
            "WARNING:tensorflow:Unresolved object in checkpoint: (root).optimizer.decay\n"
          ],
          "name": "stderr"
        },
        {
          "output_type": "stream",
          "text": [
            "WARNING:tensorflow:Unresolved object in checkpoint: (root).optimizer.learning_rate\n"
          ],
          "name": "stdout"
        },
        {
          "output_type": "stream",
          "text": [
            "WARNING:tensorflow:Unresolved object in checkpoint: (root).optimizer.learning_rate\n"
          ],
          "name": "stderr"
        },
        {
          "output_type": "stream",
          "text": [
            "WARNING:tensorflow:A checkpoint was restored (e.g. tf.train.Checkpoint.restore or tf.keras.Model.load_weights) but not all checkpointed values were used. See above for specific issues. Use expect_partial() on the load status object, e.g. tf.train.Checkpoint.restore(...).expect_partial(), to silence these warnings, or use assert_consumed() to make the check explicit. See https://www.tensorflow.org/guide/checkpoint#loading_mechanics for details.\n"
          ],
          "name": "stdout"
        },
        {
          "output_type": "stream",
          "text": [
            "WARNING:tensorflow:A checkpoint was restored (e.g. tf.train.Checkpoint.restore or tf.keras.Model.load_weights) but not all checkpointed values were used. See above for specific issues. Use expect_partial() on the load status object, e.g. tf.train.Checkpoint.restore(...).expect_partial(), to silence these warnings, or use assert_consumed() to make the check explicit. See https://www.tensorflow.org/guide/checkpoint#loading_mechanics for details.\n"
          ],
          "name": "stderr"
        },
        {
          "output_type": "stream",
          "text": [
            "11/11 [==============================] - 12s 1s/step - loss: 0.7526 - accuracy: 0.7774\n",
            "[0.7525976679541848, 0.777439]\n"
          ],
          "name": "stdout"
        }
      ]
    },
    {
      "cell_type": "code",
      "metadata": {
        "id": "62HN7jQSPXsQ"
      },
      "source": [
        "clf.fit(sample_training_images, sample_training_labels, validation_split=0.15, epochs = 3)"
      ],
      "execution_count": null,
      "outputs": []
    },
    {
      "cell_type": "code",
      "metadata": {
        "id": "hHcRml_PSZDW"
      },
      "source": [
        ""
      ],
      "execution_count": null,
      "outputs": []
    },
    {
      "cell_type": "code",
      "metadata": {
        "id": "sIo_uR4MSZNU"
      },
      "source": [
        ""
      ],
      "execution_count": null,
      "outputs": []
    },
    {
      "cell_type": "code",
      "metadata": {
        "id": "74JE7iL_SZWy"
      },
      "source": [
        ""
      ],
      "execution_count": null,
      "outputs": []
    },
    {
      "cell_type": "code",
      "metadata": {
        "id": "UN0ZeBgMSZgR"
      },
      "source": [
        ""
      ],
      "execution_count": null,
      "outputs": []
    },
    {
      "cell_type": "code",
      "metadata": {
        "id": "DVbcPMqaSZdR"
      },
      "source": [
        ""
      ],
      "execution_count": null,
      "outputs": []
    },
    {
      "cell_type": "code",
      "metadata": {
        "id": "HUFy_nTCSZbr"
      },
      "source": [
        ""
      ],
      "execution_count": null,
      "outputs": []
    },
    {
      "cell_type": "code",
      "metadata": {
        "id": "bK-oCE2F1r-_"
      },
      "source": [
        "def show_batch(image_batch, label_batch):\n",
        "  plt.figure(figsize=(10,10))\n",
        "  for n in range(25):\n",
        "      ax = plt.subplot(5,5,n+1)\n",
        "      plt.imshow(image_batch[n])\n",
        "      plt.title(CLASS_NAMES[label_batch[n]==1][0].title())\n",
        "      plt.axis('off')"
      ],
      "execution_count": null,
      "outputs": []
    },
    {
      "cell_type": "code",
      "metadata": {
        "id": "EBWRgijj13Rg",
        "colab": {
          "base_uri": "https://localhost:8080/",
          "height": 235
        },
        "outputId": "f01edecc-0678-4f6b-87e2-e9c00c227073"
      },
      "source": [
        "image_batch, label_batch = next(train_data_gen)\n",
        "show_batch(image_batch, label_batch)\n",
        "\n",
        "print('-------------------------------')\n",
        "print()\n",
        "print()\n",
        "print()\n",
        "image_batch, label_batch = next(val_data_gen)\n",
        "show_batch(image_batch, label_batch)"
      ],
      "execution_count": null,
      "outputs": [
        {
          "output_type": "error",
          "ename": "NameError",
          "evalue": "ignored",
          "traceback": [
            "\u001b[0;31m---------------------------------------------------------------------------\u001b[0m",
            "\u001b[0;31mNameError\u001b[0m                                 Traceback (most recent call last)",
            "\u001b[0;32m<ipython-input-22-f29ae47ef0d2>\u001b[0m in \u001b[0;36m<module>\u001b[0;34m()\u001b[0m\n\u001b[0;32m----> 1\u001b[0;31m \u001b[0mimage_batch\u001b[0m\u001b[0;34m,\u001b[0m \u001b[0mlabel_batch\u001b[0m \u001b[0;34m=\u001b[0m \u001b[0mnext\u001b[0m\u001b[0;34m(\u001b[0m\u001b[0mtrain_data_gen\u001b[0m\u001b[0;34m)\u001b[0m\u001b[0;34m\u001b[0m\u001b[0;34m\u001b[0m\u001b[0m\n\u001b[0m\u001b[1;32m      2\u001b[0m \u001b[0mshow_batch\u001b[0m\u001b[0;34m(\u001b[0m\u001b[0mimage_batch\u001b[0m\u001b[0;34m,\u001b[0m \u001b[0mlabel_batch\u001b[0m\u001b[0;34m)\u001b[0m\u001b[0;34m\u001b[0m\u001b[0;34m\u001b[0m\u001b[0m\n\u001b[1;32m      3\u001b[0m \u001b[0;34m\u001b[0m\u001b[0m\n\u001b[1;32m      4\u001b[0m \u001b[0mprint\u001b[0m\u001b[0;34m(\u001b[0m\u001b[0;34m'-------------------------------'\u001b[0m\u001b[0;34m)\u001b[0m\u001b[0;34m\u001b[0m\u001b[0;34m\u001b[0m\u001b[0m\n\u001b[1;32m      5\u001b[0m \u001b[0mprint\u001b[0m\u001b[0;34m(\u001b[0m\u001b[0;34m)\u001b[0m\u001b[0;34m\u001b[0m\u001b[0;34m\u001b[0m\u001b[0m\n",
            "\u001b[0;31mNameError\u001b[0m: name 'train_data_gen' is not defined"
          ]
        }
      ]
    },
    {
      "cell_type": "code",
      "metadata": {
        "id": "CX7akYNZ2DtS",
        "colab": {
          "base_uri": "https://localhost:8080/",
          "height": 191
        },
        "outputId": "8ee6bc3b-94cd-4e62-812d-bcf4a1c49ed5"
      },
      "source": [
        "train_list_ds = tf.data.Dataset.list_files(str(train_data_dir/'*/*'))\n",
        "test_list_ds = tf.data.Dataset.list_files(str(test_data_dir/'*/*'))\n",
        "\n",
        "for f in train_list_ds.take(5):\n",
        "  print(f.numpy())\n",
        "\n",
        "for f in test_list_ds.take(5):\n",
        "  print(f.numpy())\n"
      ],
      "execution_count": null,
      "outputs": [
        {
          "output_type": "stream",
          "text": [
            "b'/root/.keras/datasets/art_semi/train1/baroque/baroque.27.jpg'\n",
            "b'/root/.keras/datasets/art_semi/train1/abstracticism/abstracticism.12.jpg'\n",
            "b'/root/.keras/datasets/art_semi/train1/impressionism/impressionism.156.jpg'\n",
            "b'/root/.keras/datasets/art_semi/train1/baroque/baroque.5.jpg'\n",
            "b'/root/.keras/datasets/art_semi/train1/abstracticism/abstracticism.13.jpg'\n",
            "b'/root/.keras/datasets/art_semi/test1/baroque/baroque.15.jpg'\n",
            "b'/root/.keras/datasets/art_semi/test1/baroque/baroque.29.jpg'\n",
            "b'/root/.keras/datasets/art_semi/test1/abstracticism/abstracticism.10.jpg'\n",
            "b'/root/.keras/datasets/art_semi/test1/baroque/baroque.17.jpg'\n",
            "b'/root/.keras/datasets/art_semi/test1/impressionism/impressionism.27.jpg'\n"
          ],
          "name": "stdout"
        }
      ]
    },
    {
      "cell_type": "code",
      "metadata": {
        "id": "t7voUjFi3BSh"
      },
      "source": [
        "def get_label(file_path):\n",
        "  # convert the path to a list of path components\n",
        "  parts = tf.strings.split(file_path, os.path.sep)\n",
        "  # The second to last is the class-directory\n",
        "  return parts[-2] == CLASS_NAMES"
      ],
      "execution_count": null,
      "outputs": []
    },
    {
      "cell_type": "code",
      "metadata": {
        "id": "GSm9erTK3J9O"
      },
      "source": [
        "def decode_img(img):\n",
        "  # convert the compressed string to a 3D uint8 tensor\n",
        "  img = tf.image.decode_jpeg(img, channels=3)\n",
        "  # Use `convert_image_dtype` to convert to floats in the [0,1] range.\n",
        "  img = tf.image.convert_image_dtype(img, tf.float32)\n",
        "  # resize the image to the desired size.\n",
        "  return tf.image.resize(img, [IMG_WIDTH, IMG_HEIGHT])"
      ],
      "execution_count": null,
      "outputs": []
    },
    {
      "cell_type": "code",
      "metadata": {
        "id": "gGn6J6e83KXQ"
      },
      "source": [
        "def process_path(file_path):\n",
        "  label = get_label(file_path)\n",
        "  # load the raw data from the file as a string\n",
        "  img = tf.io.read_file(file_path)\n",
        "  img = decode_img(img)\n",
        "  return img, label"
      ],
      "execution_count": null,
      "outputs": []
    },
    {
      "cell_type": "code",
      "metadata": {
        "id": "_paB297k3MJA"
      },
      "source": [
        "# Set `num_parallel_calls` so multiple images are loaded/processed in parallel.\n",
        "train_labeled_ds = train_list_ds.map(process_path, num_parallel_calls=AUTOTUNE)"
      ],
      "execution_count": null,
      "outputs": []
    },
    {
      "cell_type": "code",
      "metadata": {
        "id": "QXqFngQs3Sj5",
        "colab": {
          "base_uri": "https://localhost:8080/",
          "height": 121
        },
        "outputId": "918cd20d-7abc-4951-dfe8-7c16fe6a8281"
      },
      "source": [
        "for image, label in train_labeled_ds.take(3):\n",
        "  print(\"Image shape: \", image.numpy().shape)\n",
        "  print(\"Label: \", label.numpy())"
      ],
      "execution_count": null,
      "outputs": [
        {
          "output_type": "stream",
          "text": [
            "Image shape:  (224, 224, 3)\n",
            "Label:  [ True False False]\n",
            "Image shape:  (224, 224, 3)\n",
            "Label:  [False False  True]\n",
            "Image shape:  (224, 224, 3)\n",
            "Label:  [ True False False]\n"
          ],
          "name": "stdout"
        }
      ]
    },
    {
      "cell_type": "code",
      "metadata": {
        "id": "LJ3ZMtFA3gYv",
        "colab": {
          "base_uri": "https://localhost:8080/",
          "height": 104
        },
        "outputId": "3e73c62b-9005-446d-b628-9895798472cb"
      },
      "source": [
        "from tensorflow.keras.datasets import mnist\n",
        "(x_train, y_train), (x_test, y_test) = mnist.load_data()\n",
        "print(x_train.shape) # (60000, 28, 28)\n",
        "print(y_train.shape) # (60000,)\n",
        "print(y_train[:3]) # array([7, 2, 1], dtype=uint8)"
      ],
      "execution_count": null,
      "outputs": [
        {
          "output_type": "stream",
          "text": [
            "Downloading data from https://storage.googleapis.com/tensorflow/tf-keras-datasets/mnist.npz\n",
            "11493376/11490434 [==============================] - 0s 0us/step\n",
            "(60000, 28, 28)\n",
            "(60000,)\n",
            "[5 0 4]\n"
          ],
          "name": "stdout"
        }
      ]
    },
    {
      "cell_type": "code",
      "metadata": {
        "id": "rp6rdLfHETQR"
      },
      "source": [
        ""
      ],
      "execution_count": null,
      "outputs": []
    },
    {
      "cell_type": "code",
      "metadata": {
        "id": "Tm9zF9pQJYlU",
        "colab": {
          "base_uri": "https://localhost:8080/",
          "height": 124
        },
        "outputId": "e9f985f1-308e-4d26-a3bf-e515d00c5890"
      },
      "source": [
        "from google.colab import drive\n",
        "drive.mount('/content/gdrive')"
      ],
      "execution_count": null,
      "outputs": [
        {
          "output_type": "stream",
          "text": [
            "Go to this URL in a browser: https://accounts.google.com/o/oauth2/auth?client_id=947318989803-6bn6qk8qdgf4n4g3pfee6491hc0brc4i.apps.googleusercontent.com&redirect_uri=urn%3aietf%3awg%3aoauth%3a2.0%3aoob&response_type=code&scope=email%20https%3a%2f%2fwww.googleapis.com%2fauth%2fdocs.test%20https%3a%2f%2fwww.googleapis.com%2fauth%2fdrive%20https%3a%2f%2fwww.googleapis.com%2fauth%2fdrive.photos.readonly%20https%3a%2f%2fwww.googleapis.com%2fauth%2fpeopleapi.readonly\n",
            "\n",
            "Enter your authorization code:\n",
            "··········\n",
            "Mounted at /content/gdrive\n"
          ],
          "name": "stdout"
        }
      ]
    },
    {
      "cell_type": "code",
      "metadata": {
        "id": "AUb9Yv0wJh_f",
        "colab": {
          "base_uri": "https://localhost:8080/",
          "height": 901
        },
        "outputId": "8c75445a-9ae1-4681-aa0d-cc17184eb73c"
      },
      "source": [
        "import json\n",
        "with open('/content/gdrive/My Drive/testcase4/testcase4_result.json', \"r\") as json_file:\n",
        "  json_data = json.load(json_file)\n",
        "\n",
        "print(json.dumps(json_data, indent=4))"
      ],
      "execution_count": null,
      "outputs": [
        {
          "output_type": "stream",
          "text": [
            "{\n",
            "    \"test_name\": \"testcase 4\",\n",
            "    \"test_accuracy\": 0.9760000109672546,\n",
            "    \"classes\": [\n",
            "        \"popart\",\n",
            "        \"minimalism\",\n",
            "        \"abstracticism\",\n",
            "        \"baroque\",\n",
            "        \"impressionism\"\n",
            "    ],\n",
            "    \"confusion_matrix\": {\n",
            "        \"popart\": {\n",
            "            \"precision\": 1.0,\n",
            "            \"recall\": 1.0,\n",
            "            \"f1-score\": 1.0,\n",
            "            \"support\": 25\n",
            "        },\n",
            "        \"minimalism\": {\n",
            "            \"precision\": 0.8928571428571429,\n",
            "            \"recall\": 1.0,\n",
            "            \"f1-score\": 0.9433962264150945,\n",
            "            \"support\": 25\n",
            "        },\n",
            "        \"abstracticism\": {\n",
            "            \"precision\": 1.0,\n",
            "            \"recall\": 0.88,\n",
            "            \"f1-score\": 0.9361702127659575,\n",
            "            \"support\": 25\n",
            "        },\n",
            "        \"baroque\": {\n",
            "            \"precision\": 1.0,\n",
            "            \"recall\": 1.0,\n",
            "            \"f1-score\": 1.0,\n",
            "            \"support\": 25\n",
            "        },\n",
            "        \"impressionism\": {\n",
            "            \"precision\": 1.0,\n",
            "            \"recall\": 1.0,\n",
            "            \"f1-score\": 1.0,\n",
            "            \"support\": 25\n",
            "        }\n",
            "    },\n",
            "    \"test_images\": {\n",
            "        \"wrong_predicted_counts\": 3,\n",
            "        \"path\": [\n",
            "            \"/content/gdrive/My Drive/testcase4/test1/impressionism/impressionism.203.jpg\",\n",
            "            \"/content/gdrive/My Drive/testcase4/test1/impressionism/impressionism.209.jpg\",\n",
            "            \"/content/gdrive/My Drive/testcase4/test1/impressionism/impressionism.218.jpg\"\n",
            "        ]\n",
            "    }\n",
            "}\n"
          ],
          "name": "stdout"
        }
      ]
    },
    {
      "cell_type": "code",
      "metadata": {
        "id": "_VPSuBgDKXUa",
        "colab": {
          "base_uri": "https://localhost:8080/",
          "height": 52
        },
        "outputId": "9c66c539-a1bc-4103-cb3d-1cd808e591e4"
      },
      "source": [
        "print(json_data[\"confusion_matrix\"][\"minimalism\"][\"precision\"])\n",
        "print(json_data[\"test_accuracy\"])"
      ],
      "execution_count": null,
      "outputs": [
        {
          "output_type": "stream",
          "text": [
            "0.8928571428571429\n",
            "0.9760000109672546\n"
          ],
          "name": "stdout"
        }
      ]
    },
    {
      "cell_type": "code",
      "metadata": {
        "id": "SdbYSo10Lh7_"
      },
      "source": [
        ""
      ],
      "execution_count": null,
      "outputs": []
    }
  ]
}
